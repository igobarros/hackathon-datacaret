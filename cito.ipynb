{
 "cells": [
  {
   "cell_type": "markdown",
   "metadata": {},
   "source": [
    "* 1 Problem\n",
    "* 2 Load and check data\n",
    "    * 2.1 load data\n",
    "    * 2.2 Outlier detection\n",
    "    * 2.3 checking unbalanced classes\n",
    "    * 2.4 check for null and missing values\n",
    "* 3 Feature analysis\n",
    "    * 3.1 Numerical values\n",
    "    * 3.2 Categorical values\n",
    "* 4 Filling missing Values\n",
    "* 5 Feature engineering\n",
    "* 6 Modeling\n",
    "    * 6.1 Cross validate models\n",
    "    * 6.2 Creating pipeline\n",
    "    * 6.3 Hyperparamater tunning for best models\n",
    "    * 6.4 Plot learning curves\n",
    "    * 6.5 Feature importance of the tree based classifiers\n",
    "    * 6.6 Prediction"
   ]
  },
  {
   "cell_type": "markdown",
   "metadata": {},
   "source": [
    "## 1 - Definição do problema"
   ]
  },
  {
   "cell_type": "code",
   "execution_count": 10,
   "metadata": {},
   "outputs": [],
   "source": []
  },
  {
   "cell_type": "markdown",
   "metadata": {},
   "source": [
    "## 2 - Carregando e checando a base"
   ]
  },
  {
   "cell_type": "code",
   "execution_count": 7,
   "metadata": {},
   "outputs": [],
   "source": [
    "from collections import Counter\n",
    "\n",
    "# Bibliotecas de análise e visualização de dados\n",
    "import numpy as np\n",
    "import pandas as pd\n",
    "import matplotlib.pyplot as plt\n",
    "import seaborn as sns\n",
    "\n",
    "# Bibliotecas de algoritmos de Machine Learning\n",
    "from sklearn.ensemble import RandomForestClassifier, AdaBoostClassifier, GradientBoostingClassifier, ExtraTreesClassifier\n",
    "from sklearn.tree import DecisionTreeClassifier\n",
    "\n",
    "# Bibliotecas de validação, pré-processamento e metrificação dos modelos\n",
    "from sklearn.model_selection import cross_val_score, StratifiedKFold, RandomizedSearchCV, train_test_split, learning_curve\n",
    "from sklearn.preprocessing import MinMaxScaler, StandardScaler\n",
    "from sklearn.metrics import classification_report, f1_score, accuracy_score\n",
    "\n",
    "from category_encoders.one_hot import OneHotEncoder\n",
    "from category_encoders.ordinal import OrdinalEncoder\n",
    "\n",
    "# Bibliotecas para desenvolver pipelines de pré-processmaneto para os modelos\n",
    "from sklearn.compose import ColumnTransformer\n",
    "from sklearn.impute import SimpleImputer\n",
    "from imblearn.over_sampling import SMOTE\n",
    "from imblearn.pipeline import Pipeline"
   ]
  },
  {
   "cell_type": "code",
   "execution_count": 8,
   "metadata": {},
   "outputs": [],
   "source": [
    "# Configurações iniciais de visualização\n",
    "\n",
    "%matplotlib inline\n",
    "pd.options.display.max_columns = None\n",
    "plt.rcParams['figure.figsize'] = (10 , 5)\n",
    "sns.set_style(style='whitegrid')"
   ]
  },
  {
   "cell_type": "markdown",
   "metadata": {},
   "source": [
    "### 2.1 - Lendo os dados"
   ]
  },
  {
   "cell_type": "code",
   "execution_count": 9,
   "metadata": {},
   "outputs": [],
   "source": [
    "df = pd.read_csv('data/TB_TBN_SISCAN_CITO_MAMA_PACNT.csv', sep=';')"
   ]
  },
  {
   "cell_type": "code",
   "execution_count": 10,
   "metadata": {},
   "outputs": [
    {
     "data": {
      "text/html": [
       "<div>\n",
       "<style scoped>\n",
       "    .dataframe tbody tr th:only-of-type {\n",
       "        vertical-align: middle;\n",
       "    }\n",
       "\n",
       "    .dataframe tbody tr th {\n",
       "        vertical-align: top;\n",
       "    }\n",
       "\n",
       "    .dataframe thead th {\n",
       "        text-align: right;\n",
       "    }\n",
       "</style>\n",
       "<table border=\"1\" class=\"dataframe\">\n",
       "  <thead>\n",
       "    <tr style=\"text-align: right;\">\n",
       "      <th></th>\n",
       "      <th>CO_SEQ_SISCAN_CITO_MAMA_PACNT</th>\n",
       "      <th>CO_UF_RESIDENCIA</th>\n",
       "      <th>CO_MUN_RESIDENCIA</th>\n",
       "      <th>NU_ANO_COMPETENCIA</th>\n",
       "      <th>NU_ANO_MES_COMPETENCIA</th>\n",
       "      <th>CO_RACA_COR</th>\n",
       "      <th>SG_SEXO</th>\n",
       "      <th>CO_FAIXA_ETARIA_PACIENTE</th>\n",
       "      <th>CO_ESCOLARIDADE</th>\n",
       "      <th>CO_INTERVALO_COLETA</th>\n",
       "      <th>CO_INTERVALO_EXAME</th>\n",
       "      <th>CO_TEMPO_EXAME</th>\n",
       "      <th>CO_RISCO_ELEVADO</th>\n",
       "      <th>TP_DESCARGA_PAPILAR</th>\n",
       "      <th>TP_NODULO</th>\n",
       "      <th>TP_LATERALIDADE_MAMA</th>\n",
       "      <th>TP_MATERIAL</th>\n",
       "      <th>TP_ADEQUABILIDAD_MATERIAL</th>\n",
       "      <th>TP_RESULTA_PUNCAO_ASPIRATIVA</th>\n",
       "      <th>TP_PROC_BENI_NEGA_MALI_COMPATI</th>\n",
       "      <th>TP_PADR_CITO_MALIG_INDET</th>\n",
       "      <th>TP_PADR_CITO_SUSP_MALIG</th>\n",
       "      <th>TP_PADR_CITO_POSI_MALIG</th>\n",
       "      <th>TP_PADRAO_CITOPATOL_AMOST</th>\n",
       "      <th>CO_PACIENTE</th>\n",
       "      <th>TP_LAUDO_CITOP</th>\n",
       "      <th>CO_TEM_NODULO</th>\n",
       "      <th>CO_ANO_RESULTADO</th>\n",
       "      <th>SG_UF_RESIDENCIA</th>\n",
       "    </tr>\n",
       "  </thead>\n",
       "  <tbody>\n",
       "    <tr>\n",
       "      <th>35629</th>\n",
       "      <td>31087</td>\n",
       "      <td>27</td>\n",
       "      <td>270030</td>\n",
       "      <td>2013</td>\n",
       "      <td>201310</td>\n",
       "      <td>4</td>\n",
       "      <td>F</td>\n",
       "      <td>38</td>\n",
       "      <td>NaN</td>\n",
       "      <td>1</td>\n",
       "      <td>1</td>\n",
       "      <td>1</td>\n",
       "      <td>2</td>\n",
       "      <td>NaN</td>\n",
       "      <td>1.0</td>\n",
       "      <td>2</td>\n",
       "      <td>2</td>\n",
       "      <td>1</td>\n",
       "      <td>1.0</td>\n",
       "      <td>5.0</td>\n",
       "      <td>NaN</td>\n",
       "      <td>NaN</td>\n",
       "      <td>NaN</td>\n",
       "      <td>NaN</td>\n",
       "      <td>203869447700004</td>\n",
       "      <td>4</td>\n",
       "      <td>4.0</td>\n",
       "      <td>2013</td>\n",
       "      <td>AL</td>\n",
       "    </tr>\n",
       "    <tr>\n",
       "      <th>25590</th>\n",
       "      <td>20354</td>\n",
       "      <td>31</td>\n",
       "      <td>311870</td>\n",
       "      <td>2018</td>\n",
       "      <td>201803</td>\n",
       "      <td>4</td>\n",
       "      <td>F</td>\n",
       "      <td>15</td>\n",
       "      <td>NaN</td>\n",
       "      <td>2</td>\n",
       "      <td>3</td>\n",
       "      <td>1</td>\n",
       "      <td>2</td>\n",
       "      <td>NaN</td>\n",
       "      <td>1.0</td>\n",
       "      <td>1</td>\n",
       "      <td>2</td>\n",
       "      <td>1</td>\n",
       "      <td>1.0</td>\n",
       "      <td>3.0</td>\n",
       "      <td>NaN</td>\n",
       "      <td>NaN</td>\n",
       "      <td>NaN</td>\n",
       "      <td>NaN</td>\n",
       "      <td>704600159404128</td>\n",
       "      <td>4</td>\n",
       "      <td>2.0</td>\n",
       "      <td>2018</td>\n",
       "      <td>MG</td>\n",
       "    </tr>\n",
       "    <tr>\n",
       "      <th>34010</th>\n",
       "      <td>32856</td>\n",
       "      <td>50</td>\n",
       "      <td>500390</td>\n",
       "      <td>2016</td>\n",
       "      <td>201603</td>\n",
       "      <td>1</td>\n",
       "      <td>F</td>\n",
       "      <td>36</td>\n",
       "      <td>NaN</td>\n",
       "      <td>1</td>\n",
       "      <td>1</td>\n",
       "      <td>1</td>\n",
       "      <td>1</td>\n",
       "      <td>NaN</td>\n",
       "      <td>3.0</td>\n",
       "      <td>1</td>\n",
       "      <td>2</td>\n",
       "      <td>1</td>\n",
       "      <td>1.0</td>\n",
       "      <td>7.0</td>\n",
       "      <td>NaN</td>\n",
       "      <td>NaN</td>\n",
       "      <td>NaN</td>\n",
       "      <td>NaN</td>\n",
       "      <td>709209293494937</td>\n",
       "      <td>4</td>\n",
       "      <td>4.0</td>\n",
       "      <td>2016</td>\n",
       "      <td>MS</td>\n",
       "    </tr>\n",
       "    <tr>\n",
       "      <th>8312</th>\n",
       "      <td>8235</td>\n",
       "      <td>41</td>\n",
       "      <td>411370</td>\n",
       "      <td>2014</td>\n",
       "      <td>201406</td>\n",
       "      <td>1</td>\n",
       "      <td>F</td>\n",
       "      <td>46</td>\n",
       "      <td>NaN</td>\n",
       "      <td>1</td>\n",
       "      <td>3</td>\n",
       "      <td>1</td>\n",
       "      <td>2</td>\n",
       "      <td>NaN</td>\n",
       "      <td>NaN</td>\n",
       "      <td>1</td>\n",
       "      <td>1</td>\n",
       "      <td>1</td>\n",
       "      <td>NaN</td>\n",
       "      <td>NaN</td>\n",
       "      <td>NaN</td>\n",
       "      <td>NaN</td>\n",
       "      <td>NaN</td>\n",
       "      <td>2.0</td>\n",
       "      <td>706203562622068</td>\n",
       "      <td>5</td>\n",
       "      <td>4.0</td>\n",
       "      <td>2014</td>\n",
       "      <td>PR</td>\n",
       "    </tr>\n",
       "    <tr>\n",
       "      <th>10585</th>\n",
       "      <td>18604</td>\n",
       "      <td>41</td>\n",
       "      <td>410180</td>\n",
       "      <td>2018</td>\n",
       "      <td>201805</td>\n",
       "      <td>4</td>\n",
       "      <td>F</td>\n",
       "      <td>45</td>\n",
       "      <td>NaN</td>\n",
       "      <td>1</td>\n",
       "      <td>4</td>\n",
       "      <td>1</td>\n",
       "      <td>2</td>\n",
       "      <td>1.0</td>\n",
       "      <td>3.0</td>\n",
       "      <td>1</td>\n",
       "      <td>2</td>\n",
       "      <td>1</td>\n",
       "      <td>1.0</td>\n",
       "      <td>7.0</td>\n",
       "      <td>NaN</td>\n",
       "      <td>NaN</td>\n",
       "      <td>NaN</td>\n",
       "      <td>NaN</td>\n",
       "      <td>708505311063373</td>\n",
       "      <td>4</td>\n",
       "      <td>4.0</td>\n",
       "      <td>2018</td>\n",
       "      <td>PR</td>\n",
       "    </tr>\n",
       "  </tbody>\n",
       "</table>\n",
       "</div>"
      ],
      "text/plain": [
       "       CO_SEQ_SISCAN_CITO_MAMA_PACNT  CO_UF_RESIDENCIA  CO_MUN_RESIDENCIA  \\\n",
       "35629                          31087                27             270030   \n",
       "25590                          20354                31             311870   \n",
       "34010                          32856                50             500390   \n",
       "8312                            8235                41             411370   \n",
       "10585                          18604                41             410180   \n",
       "\n",
       "       NU_ANO_COMPETENCIA  NU_ANO_MES_COMPETENCIA  CO_RACA_COR SG_SEXO  \\\n",
       "35629                2013                  201310            4       F   \n",
       "25590                2018                  201803            4       F   \n",
       "34010                2016                  201603            1       F   \n",
       "8312                 2014                  201406            1       F   \n",
       "10585                2018                  201805            4       F   \n",
       "\n",
       "       CO_FAIXA_ETARIA_PACIENTE  CO_ESCOLARIDADE  CO_INTERVALO_COLETA  \\\n",
       "35629                        38              NaN                    1   \n",
       "25590                        15              NaN                    2   \n",
       "34010                        36              NaN                    1   \n",
       "8312                         46              NaN                    1   \n",
       "10585                        45              NaN                    1   \n",
       "\n",
       "       CO_INTERVALO_EXAME  CO_TEMPO_EXAME  CO_RISCO_ELEVADO  \\\n",
       "35629                   1               1                 2   \n",
       "25590                   3               1                 2   \n",
       "34010                   1               1                 1   \n",
       "8312                    3               1                 2   \n",
       "10585                   4               1                 2   \n",
       "\n",
       "       TP_DESCARGA_PAPILAR  TP_NODULO  TP_LATERALIDADE_MAMA  TP_MATERIAL  \\\n",
       "35629                  NaN        1.0                     2            2   \n",
       "25590                  NaN        1.0                     1            2   \n",
       "34010                  NaN        3.0                     1            2   \n",
       "8312                   NaN        NaN                     1            1   \n",
       "10585                  1.0        3.0                     1            2   \n",
       "\n",
       "       TP_ADEQUABILIDAD_MATERIAL  TP_RESULTA_PUNCAO_ASPIRATIVA  \\\n",
       "35629                          1                           1.0   \n",
       "25590                          1                           1.0   \n",
       "34010                          1                           1.0   \n",
       "8312                           1                           NaN   \n",
       "10585                          1                           1.0   \n",
       "\n",
       "       TP_PROC_BENI_NEGA_MALI_COMPATI  TP_PADR_CITO_MALIG_INDET  \\\n",
       "35629                             5.0                       NaN   \n",
       "25590                             3.0                       NaN   \n",
       "34010                             7.0                       NaN   \n",
       "8312                              NaN                       NaN   \n",
       "10585                             7.0                       NaN   \n",
       "\n",
       "       TP_PADR_CITO_SUSP_MALIG  TP_PADR_CITO_POSI_MALIG  \\\n",
       "35629                      NaN                      NaN   \n",
       "25590                      NaN                      NaN   \n",
       "34010                      NaN                      NaN   \n",
       "8312                       NaN                      NaN   \n",
       "10585                      NaN                      NaN   \n",
       "\n",
       "       TP_PADRAO_CITOPATOL_AMOST      CO_PACIENTE  TP_LAUDO_CITOP  \\\n",
       "35629                        NaN  203869447700004               4   \n",
       "25590                        NaN  704600159404128               4   \n",
       "34010                        NaN  709209293494937               4   \n",
       "8312                         2.0  706203562622068               5   \n",
       "10585                        NaN  708505311063373               4   \n",
       "\n",
       "       CO_TEM_NODULO  CO_ANO_RESULTADO SG_UF_RESIDENCIA  \n",
       "35629            4.0              2013               AL  \n",
       "25590            2.0              2018               MG  \n",
       "34010            4.0              2016               MS  \n",
       "8312             4.0              2014               PR  \n",
       "10585            4.0              2018               PR  "
      ]
     },
     "execution_count": 10,
     "metadata": {},
     "output_type": "execute_result"
    }
   ],
   "source": [
    "df.sample(5)"
   ]
  },
  {
   "cell_type": "code",
   "execution_count": 11,
   "metadata": {},
   "outputs": [
    {
     "data": {
      "text/plain": [
       "(78984, 29)"
      ]
     },
     "execution_count": 11,
     "metadata": {},
     "output_type": "execute_result"
    }
   ],
   "source": [
    "df.shape"
   ]
  },
  {
   "cell_type": "code",
   "execution_count": 12,
   "metadata": {},
   "outputs": [
    {
     "data": {
      "text/html": [
       "<div>\n",
       "<style scoped>\n",
       "    .dataframe tbody tr th:only-of-type {\n",
       "        vertical-align: middle;\n",
       "    }\n",
       "\n",
       "    .dataframe tbody tr th {\n",
       "        vertical-align: top;\n",
       "    }\n",
       "\n",
       "    .dataframe thead th {\n",
       "        text-align: right;\n",
       "    }\n",
       "</style>\n",
       "<table border=\"1\" class=\"dataframe\">\n",
       "  <thead>\n",
       "    <tr style=\"text-align: right;\">\n",
       "      <th></th>\n",
       "      <th>CO_SEQ_SISCAN_CITO_MAMA_PACNT</th>\n",
       "      <th>CO_UF_RESIDENCIA</th>\n",
       "      <th>CO_MUN_RESIDENCIA</th>\n",
       "      <th>NU_ANO_COMPETENCIA</th>\n",
       "      <th>NU_ANO_MES_COMPETENCIA</th>\n",
       "      <th>CO_RACA_COR</th>\n",
       "      <th>CO_FAIXA_ETARIA_PACIENTE</th>\n",
       "      <th>CO_ESCOLARIDADE</th>\n",
       "      <th>CO_INTERVALO_COLETA</th>\n",
       "      <th>CO_INTERVALO_EXAME</th>\n",
       "      <th>CO_TEMPO_EXAME</th>\n",
       "      <th>CO_RISCO_ELEVADO</th>\n",
       "      <th>TP_DESCARGA_PAPILAR</th>\n",
       "      <th>TP_NODULO</th>\n",
       "      <th>TP_LATERALIDADE_MAMA</th>\n",
       "      <th>TP_MATERIAL</th>\n",
       "      <th>TP_ADEQUABILIDAD_MATERIAL</th>\n",
       "      <th>TP_RESULTA_PUNCAO_ASPIRATIVA</th>\n",
       "      <th>TP_PROC_BENI_NEGA_MALI_COMPATI</th>\n",
       "      <th>TP_PADR_CITO_MALIG_INDET</th>\n",
       "      <th>TP_PADR_CITO_SUSP_MALIG</th>\n",
       "      <th>TP_PADR_CITO_POSI_MALIG</th>\n",
       "      <th>TP_PADRAO_CITOPATOL_AMOST</th>\n",
       "      <th>CO_PACIENTE</th>\n",
       "      <th>TP_LAUDO_CITOP</th>\n",
       "      <th>CO_TEM_NODULO</th>\n",
       "      <th>CO_ANO_RESULTADO</th>\n",
       "    </tr>\n",
       "  </thead>\n",
       "  <tbody>\n",
       "    <tr>\n",
       "      <th>count</th>\n",
       "      <td>78984.000000</td>\n",
       "      <td>78984.000000</td>\n",
       "      <td>78984.000000</td>\n",
       "      <td>78984.000000</td>\n",
       "      <td>78984.000000</td>\n",
       "      <td>78984.000000</td>\n",
       "      <td>78984.000000</td>\n",
       "      <td>463.000000</td>\n",
       "      <td>78984.000000</td>\n",
       "      <td>78984.000000</td>\n",
       "      <td>78984.000000</td>\n",
       "      <td>78984.000000</td>\n",
       "      <td>15590.000000</td>\n",
       "      <td>59537.000000</td>\n",
       "      <td>78984.000000</td>\n",
       "      <td>78984.000000</td>\n",
       "      <td>78984.000000</td>\n",
       "      <td>50884.000000</td>\n",
       "      <td>45611.000000</td>\n",
       "      <td>601.000000</td>\n",
       "      <td>2538.000000</td>\n",
       "      <td>2132.000000</td>\n",
       "      <td>18154.000000</td>\n",
       "      <td>7.898400e+04</td>\n",
       "      <td>78984.000000</td>\n",
       "      <td>73530.000000</td>\n",
       "      <td>78984.000000</td>\n",
       "    </tr>\n",
       "    <tr>\n",
       "      <th>mean</th>\n",
       "      <td>56340.109364</td>\n",
       "      <td>34.131837</td>\n",
       "      <td>342697.165793</td>\n",
       "      <td>2016.990454</td>\n",
       "      <td>201705.614061</td>\n",
       "      <td>11.804403</td>\n",
       "      <td>43.673225</td>\n",
       "      <td>3.053996</td>\n",
       "      <td>1.229768</td>\n",
       "      <td>2.497974</td>\n",
       "      <td>1.043844</td>\n",
       "      <td>2.102274</td>\n",
       "      <td>1.226940</td>\n",
       "      <td>1.556931</td>\n",
       "      <td>1.524068</td>\n",
       "      <td>1.892447</td>\n",
       "      <td>1.125924</td>\n",
       "      <td>1.237265</td>\n",
       "      <td>5.670496</td>\n",
       "      <td>2.415973</td>\n",
       "      <td>1.202128</td>\n",
       "      <td>1.671201</td>\n",
       "      <td>2.041809</td>\n",
       "      <td>6.883453e+14</td>\n",
       "      <td>4.306467</td>\n",
       "      <td>2.829444</td>\n",
       "      <td>2016.869341</td>\n",
       "    </tr>\n",
       "    <tr>\n",
       "      <th>std</th>\n",
       "      <td>50336.379723</td>\n",
       "      <td>9.627779</td>\n",
       "      <td>96178.753785</td>\n",
       "      <td>1.857743</td>\n",
       "      <td>185.217493</td>\n",
       "      <td>28.874601</td>\n",
       "      <td>13.992242</td>\n",
       "      <td>1.048241</td>\n",
       "      <td>0.653786</td>\n",
       "      <td>1.173058</td>\n",
       "      <td>0.253089</td>\n",
       "      <td>0.573766</td>\n",
       "      <td>0.418867</td>\n",
       "      <td>0.847393</td>\n",
       "      <td>0.499424</td>\n",
       "      <td>0.477324</td>\n",
       "      <td>0.331766</td>\n",
       "      <td>0.729474</td>\n",
       "      <td>1.566748</td>\n",
       "      <td>0.894433</td>\n",
       "      <td>0.401666</td>\n",
       "      <td>0.932371</td>\n",
       "      <td>0.915214</td>\n",
       "      <td>1.208205e+14</td>\n",
       "      <td>1.008238</td>\n",
       "      <td>1.289570</td>\n",
       "      <td>1.830351</td>\n",
       "    </tr>\n",
       "    <tr>\n",
       "      <th>min</th>\n",
       "      <td>1.000000</td>\n",
       "      <td>11.000000</td>\n",
       "      <td>110002.000000</td>\n",
       "      <td>2013.000000</td>\n",
       "      <td>201307.000000</td>\n",
       "      <td>1.000000</td>\n",
       "      <td>0.000000</td>\n",
       "      <td>1.000000</td>\n",
       "      <td>1.000000</td>\n",
       "      <td>1.000000</td>\n",
       "      <td>1.000000</td>\n",
       "      <td>1.000000</td>\n",
       "      <td>1.000000</td>\n",
       "      <td>1.000000</td>\n",
       "      <td>1.000000</td>\n",
       "      <td>1.000000</td>\n",
       "      <td>1.000000</td>\n",
       "      <td>1.000000</td>\n",
       "      <td>1.000000</td>\n",
       "      <td>1.000000</td>\n",
       "      <td>1.000000</td>\n",
       "      <td>1.000000</td>\n",
       "      <td>1.000000</td>\n",
       "      <td>1.006873e+14</td>\n",
       "      <td>1.000000</td>\n",
       "      <td>1.000000</td>\n",
       "      <td>2013.000000</td>\n",
       "    </tr>\n",
       "    <tr>\n",
       "      <th>25%</th>\n",
       "      <td>19746.750000</td>\n",
       "      <td>28.000000</td>\n",
       "      <td>280030.000000</td>\n",
       "      <td>2015.000000</td>\n",
       "      <td>201512.000000</td>\n",
       "      <td>1.000000</td>\n",
       "      <td>34.000000</td>\n",
       "      <td>2.000000</td>\n",
       "      <td>1.000000</td>\n",
       "      <td>1.000000</td>\n",
       "      <td>1.000000</td>\n",
       "      <td>2.000000</td>\n",
       "      <td>1.000000</td>\n",
       "      <td>1.000000</td>\n",
       "      <td>1.000000</td>\n",
       "      <td>2.000000</td>\n",
       "      <td>1.000000</td>\n",
       "      <td>1.000000</td>\n",
       "      <td>5.000000</td>\n",
       "      <td>1.000000</td>\n",
       "      <td>1.000000</td>\n",
       "      <td>1.000000</td>\n",
       "      <td>2.000000</td>\n",
       "      <td>7.007030e+14</td>\n",
       "      <td>4.000000</td>\n",
       "      <td>2.000000</td>\n",
       "      <td>2015.000000</td>\n",
       "    </tr>\n",
       "    <tr>\n",
       "      <th>50%</th>\n",
       "      <td>39506.500000</td>\n",
       "      <td>31.000000</td>\n",
       "      <td>314415.000000</td>\n",
       "      <td>2017.000000</td>\n",
       "      <td>201707.000000</td>\n",
       "      <td>3.000000</td>\n",
       "      <td>44.000000</td>\n",
       "      <td>3.000000</td>\n",
       "      <td>1.000000</td>\n",
       "      <td>2.000000</td>\n",
       "      <td>1.000000</td>\n",
       "      <td>2.000000</td>\n",
       "      <td>1.000000</td>\n",
       "      <td>1.000000</td>\n",
       "      <td>2.000000</td>\n",
       "      <td>2.000000</td>\n",
       "      <td>1.000000</td>\n",
       "      <td>1.000000</td>\n",
       "      <td>6.000000</td>\n",
       "      <td>3.000000</td>\n",
       "      <td>1.000000</td>\n",
       "      <td>1.000000</td>\n",
       "      <td>2.000000</td>\n",
       "      <td>7.041053e+14</td>\n",
       "      <td>4.000000</td>\n",
       "      <td>4.000000</td>\n",
       "      <td>2017.000000</td>\n",
       "    </tr>\n",
       "    <tr>\n",
       "      <th>75%</th>\n",
       "      <td>61738.250000</td>\n",
       "      <td>41.000000</td>\n",
       "      <td>412405.000000</td>\n",
       "      <td>2019.000000</td>\n",
       "      <td>201902.000000</td>\n",
       "      <td>4.000000</td>\n",
       "      <td>52.000000</td>\n",
       "      <td>4.000000</td>\n",
       "      <td>1.000000</td>\n",
       "      <td>4.000000</td>\n",
       "      <td>1.000000</td>\n",
       "      <td>2.000000</td>\n",
       "      <td>1.000000</td>\n",
       "      <td>2.000000</td>\n",
       "      <td>2.000000</td>\n",
       "      <td>2.000000</td>\n",
       "      <td>1.000000</td>\n",
       "      <td>1.000000</td>\n",
       "      <td>7.000000</td>\n",
       "      <td>3.000000</td>\n",
       "      <td>1.000000</td>\n",
       "      <td>3.000000</td>\n",
       "      <td>2.000000</td>\n",
       "      <td>7.068008e+14</td>\n",
       "      <td>5.000000</td>\n",
       "      <td>4.000000</td>\n",
       "      <td>2018.000000</td>\n",
       "    </tr>\n",
       "    <tr>\n",
       "      <th>max</th>\n",
       "      <td>156224.000000</td>\n",
       "      <td>53.000000</td>\n",
       "      <td>530010.000000</td>\n",
       "      <td>2020.000000</td>\n",
       "      <td>202007.000000</td>\n",
       "      <td>99.000000</td>\n",
       "      <td>118.000000</td>\n",
       "      <td>5.000000</td>\n",
       "      <td>4.000000</td>\n",
       "      <td>4.000000</td>\n",
       "      <td>3.000000</td>\n",
       "      <td>3.000000</td>\n",
       "      <td>2.000000</td>\n",
       "      <td>3.000000</td>\n",
       "      <td>2.000000</td>\n",
       "      <td>3.000000</td>\n",
       "      <td>2.000000</td>\n",
       "      <td>4.000000</td>\n",
       "      <td>7.000000</td>\n",
       "      <td>3.000000</td>\n",
       "      <td>2.000000</td>\n",
       "      <td>3.000000</td>\n",
       "      <td>6.000000</td>\n",
       "      <td>9.800163e+14</td>\n",
       "      <td>6.000000</td>\n",
       "      <td>4.000000</td>\n",
       "      <td>2020.000000</td>\n",
       "    </tr>\n",
       "  </tbody>\n",
       "</table>\n",
       "</div>"
      ],
      "text/plain": [
       "       CO_SEQ_SISCAN_CITO_MAMA_PACNT  CO_UF_RESIDENCIA  CO_MUN_RESIDENCIA  \\\n",
       "count                   78984.000000      78984.000000       78984.000000   \n",
       "mean                    56340.109364         34.131837      342697.165793   \n",
       "std                     50336.379723          9.627779       96178.753785   \n",
       "min                         1.000000         11.000000      110002.000000   \n",
       "25%                     19746.750000         28.000000      280030.000000   \n",
       "50%                     39506.500000         31.000000      314415.000000   \n",
       "75%                     61738.250000         41.000000      412405.000000   \n",
       "max                    156224.000000         53.000000      530010.000000   \n",
       "\n",
       "       NU_ANO_COMPETENCIA  NU_ANO_MES_COMPETENCIA   CO_RACA_COR  \\\n",
       "count        78984.000000            78984.000000  78984.000000   \n",
       "mean          2016.990454           201705.614061     11.804403   \n",
       "std              1.857743              185.217493     28.874601   \n",
       "min           2013.000000           201307.000000      1.000000   \n",
       "25%           2015.000000           201512.000000      1.000000   \n",
       "50%           2017.000000           201707.000000      3.000000   \n",
       "75%           2019.000000           201902.000000      4.000000   \n",
       "max           2020.000000           202007.000000     99.000000   \n",
       "\n",
       "       CO_FAIXA_ETARIA_PACIENTE  CO_ESCOLARIDADE  CO_INTERVALO_COLETA  \\\n",
       "count              78984.000000       463.000000         78984.000000   \n",
       "mean                  43.673225         3.053996             1.229768   \n",
       "std                   13.992242         1.048241             0.653786   \n",
       "min                    0.000000         1.000000             1.000000   \n",
       "25%                   34.000000         2.000000             1.000000   \n",
       "50%                   44.000000         3.000000             1.000000   \n",
       "75%                   52.000000         4.000000             1.000000   \n",
       "max                  118.000000         5.000000             4.000000   \n",
       "\n",
       "       CO_INTERVALO_EXAME  CO_TEMPO_EXAME  CO_RISCO_ELEVADO  \\\n",
       "count        78984.000000    78984.000000      78984.000000   \n",
       "mean             2.497974        1.043844          2.102274   \n",
       "std              1.173058        0.253089          0.573766   \n",
       "min              1.000000        1.000000          1.000000   \n",
       "25%              1.000000        1.000000          2.000000   \n",
       "50%              2.000000        1.000000          2.000000   \n",
       "75%              4.000000        1.000000          2.000000   \n",
       "max              4.000000        3.000000          3.000000   \n",
       "\n",
       "       TP_DESCARGA_PAPILAR     TP_NODULO  TP_LATERALIDADE_MAMA   TP_MATERIAL  \\\n",
       "count         15590.000000  59537.000000          78984.000000  78984.000000   \n",
       "mean              1.226940      1.556931              1.524068      1.892447   \n",
       "std               0.418867      0.847393              0.499424      0.477324   \n",
       "min               1.000000      1.000000              1.000000      1.000000   \n",
       "25%               1.000000      1.000000              1.000000      2.000000   \n",
       "50%               1.000000      1.000000              2.000000      2.000000   \n",
       "75%               1.000000      2.000000              2.000000      2.000000   \n",
       "max               2.000000      3.000000              2.000000      3.000000   \n",
       "\n",
       "       TP_ADEQUABILIDAD_MATERIAL  TP_RESULTA_PUNCAO_ASPIRATIVA  \\\n",
       "count               78984.000000                  50884.000000   \n",
       "mean                    1.125924                      1.237265   \n",
       "std                     0.331766                      0.729474   \n",
       "min                     1.000000                      1.000000   \n",
       "25%                     1.000000                      1.000000   \n",
       "50%                     1.000000                      1.000000   \n",
       "75%                     1.000000                      1.000000   \n",
       "max                     2.000000                      4.000000   \n",
       "\n",
       "       TP_PROC_BENI_NEGA_MALI_COMPATI  TP_PADR_CITO_MALIG_INDET  \\\n",
       "count                    45611.000000                601.000000   \n",
       "mean                         5.670496                  2.415973   \n",
       "std                          1.566748                  0.894433   \n",
       "min                          1.000000                  1.000000   \n",
       "25%                          5.000000                  1.000000   \n",
       "50%                          6.000000                  3.000000   \n",
       "75%                          7.000000                  3.000000   \n",
       "max                          7.000000                  3.000000   \n",
       "\n",
       "       TP_PADR_CITO_SUSP_MALIG  TP_PADR_CITO_POSI_MALIG  \\\n",
       "count              2538.000000              2132.000000   \n",
       "mean                  1.202128                 1.671201   \n",
       "std                   0.401666                 0.932371   \n",
       "min                   1.000000                 1.000000   \n",
       "25%                   1.000000                 1.000000   \n",
       "50%                   1.000000                 1.000000   \n",
       "75%                   1.000000                 3.000000   \n",
       "max                   2.000000                 3.000000   \n",
       "\n",
       "       TP_PADRAO_CITOPATOL_AMOST   CO_PACIENTE  TP_LAUDO_CITOP  CO_TEM_NODULO  \\\n",
       "count               18154.000000  7.898400e+04    78984.000000   73530.000000   \n",
       "mean                    2.041809  6.883453e+14        4.306467       2.829444   \n",
       "std                     0.915214  1.208205e+14        1.008238       1.289570   \n",
       "min                     1.000000  1.006873e+14        1.000000       1.000000   \n",
       "25%                     2.000000  7.007030e+14        4.000000       2.000000   \n",
       "50%                     2.000000  7.041053e+14        4.000000       4.000000   \n",
       "75%                     2.000000  7.068008e+14        5.000000       4.000000   \n",
       "max                     6.000000  9.800163e+14        6.000000       4.000000   \n",
       "\n",
       "       CO_ANO_RESULTADO  \n",
       "count      78984.000000  \n",
       "mean        2016.869341  \n",
       "std            1.830351  \n",
       "min         2013.000000  \n",
       "25%         2015.000000  \n",
       "50%         2017.000000  \n",
       "75%         2018.000000  \n",
       "max         2020.000000  "
      ]
     },
     "execution_count": 12,
     "metadata": {},
     "output_type": "execute_result"
    }
   ],
   "source": [
    "df.describe() # Estatísticas descritivas dos dados"
   ]
  },
  {
   "cell_type": "code",
   "execution_count": 13,
   "metadata": {},
   "outputs": [
    {
     "data": {
      "text/html": [
       "<div>\n",
       "<style scoped>\n",
       "    .dataframe tbody tr th:only-of-type {\n",
       "        vertical-align: middle;\n",
       "    }\n",
       "\n",
       "    .dataframe tbody tr th {\n",
       "        vertical-align: top;\n",
       "    }\n",
       "\n",
       "    .dataframe thead th {\n",
       "        text-align: right;\n",
       "    }\n",
       "</style>\n",
       "<table border=\"1\" class=\"dataframe\">\n",
       "  <thead>\n",
       "    <tr style=\"text-align: right;\">\n",
       "      <th></th>\n",
       "      <th>column</th>\n",
       "      <th>type</th>\n",
       "      <th>NA #</th>\n",
       "      <th>NA %</th>\n",
       "    </tr>\n",
       "  </thead>\n",
       "  <tbody>\n",
       "    <tr>\n",
       "      <th>CO_ESCOLARIDADE</th>\n",
       "      <td>CO_ESCOLARIDADE</td>\n",
       "      <td>float64</td>\n",
       "      <td>78521</td>\n",
       "      <td>99.41</td>\n",
       "    </tr>\n",
       "    <tr>\n",
       "      <th>TP_PADR_CITO_MALIG_INDET</th>\n",
       "      <td>TP_PADR_CITO_MALIG_INDET</td>\n",
       "      <td>float64</td>\n",
       "      <td>78383</td>\n",
       "      <td>99.24</td>\n",
       "    </tr>\n",
       "    <tr>\n",
       "      <th>TP_PADR_CITO_POSI_MALIG</th>\n",
       "      <td>TP_PADR_CITO_POSI_MALIG</td>\n",
       "      <td>float64</td>\n",
       "      <td>76852</td>\n",
       "      <td>97.30</td>\n",
       "    </tr>\n",
       "    <tr>\n",
       "      <th>TP_PADR_CITO_SUSP_MALIG</th>\n",
       "      <td>TP_PADR_CITO_SUSP_MALIG</td>\n",
       "      <td>float64</td>\n",
       "      <td>76446</td>\n",
       "      <td>96.79</td>\n",
       "    </tr>\n",
       "    <tr>\n",
       "      <th>TP_DESCARGA_PAPILAR</th>\n",
       "      <td>TP_DESCARGA_PAPILAR</td>\n",
       "      <td>float64</td>\n",
       "      <td>63394</td>\n",
       "      <td>80.26</td>\n",
       "    </tr>\n",
       "    <tr>\n",
       "      <th>TP_PADRAO_CITOPATOL_AMOST</th>\n",
       "      <td>TP_PADRAO_CITOPATOL_AMOST</td>\n",
       "      <td>float64</td>\n",
       "      <td>60830</td>\n",
       "      <td>77.02</td>\n",
       "    </tr>\n",
       "    <tr>\n",
       "      <th>TP_PROC_BENI_NEGA_MALI_COMPATI</th>\n",
       "      <td>TP_PROC_BENI_NEGA_MALI_COMPATI</td>\n",
       "      <td>float64</td>\n",
       "      <td>33373</td>\n",
       "      <td>42.25</td>\n",
       "    </tr>\n",
       "    <tr>\n",
       "      <th>TP_RESULTA_PUNCAO_ASPIRATIVA</th>\n",
       "      <td>TP_RESULTA_PUNCAO_ASPIRATIVA</td>\n",
       "      <td>float64</td>\n",
       "      <td>28100</td>\n",
       "      <td>35.58</td>\n",
       "    </tr>\n",
       "    <tr>\n",
       "      <th>TP_NODULO</th>\n",
       "      <td>TP_NODULO</td>\n",
       "      <td>float64</td>\n",
       "      <td>19447</td>\n",
       "      <td>24.62</td>\n",
       "    </tr>\n",
       "    <tr>\n",
       "      <th>CO_TEM_NODULO</th>\n",
       "      <td>CO_TEM_NODULO</td>\n",
       "      <td>float64</td>\n",
       "      <td>5454</td>\n",
       "      <td>6.91</td>\n",
       "    </tr>\n",
       "    <tr>\n",
       "      <th>TP_MATERIAL</th>\n",
       "      <td>TP_MATERIAL</td>\n",
       "      <td>int64</td>\n",
       "      <td>0</td>\n",
       "      <td>0.00</td>\n",
       "    </tr>\n",
       "    <tr>\n",
       "      <th>CO_ANO_RESULTADO</th>\n",
       "      <td>CO_ANO_RESULTADO</td>\n",
       "      <td>int64</td>\n",
       "      <td>0</td>\n",
       "      <td>0.00</td>\n",
       "    </tr>\n",
       "    <tr>\n",
       "      <th>TP_LAUDO_CITOP</th>\n",
       "      <td>TP_LAUDO_CITOP</td>\n",
       "      <td>int64</td>\n",
       "      <td>0</td>\n",
       "      <td>0.00</td>\n",
       "    </tr>\n",
       "    <tr>\n",
       "      <th>CO_PACIENTE</th>\n",
       "      <td>CO_PACIENTE</td>\n",
       "      <td>int64</td>\n",
       "      <td>0</td>\n",
       "      <td>0.00</td>\n",
       "    </tr>\n",
       "    <tr>\n",
       "      <th>TP_ADEQUABILIDAD_MATERIAL</th>\n",
       "      <td>TP_ADEQUABILIDAD_MATERIAL</td>\n",
       "      <td>int64</td>\n",
       "      <td>0</td>\n",
       "      <td>0.00</td>\n",
       "    </tr>\n",
       "    <tr>\n",
       "      <th>CO_SEQ_SISCAN_CITO_MAMA_PACNT</th>\n",
       "      <td>CO_SEQ_SISCAN_CITO_MAMA_PACNT</td>\n",
       "      <td>int64</td>\n",
       "      <td>0</td>\n",
       "      <td>0.00</td>\n",
       "    </tr>\n",
       "    <tr>\n",
       "      <th>TP_LATERALIDADE_MAMA</th>\n",
       "      <td>TP_LATERALIDADE_MAMA</td>\n",
       "      <td>int64</td>\n",
       "      <td>0</td>\n",
       "      <td>0.00</td>\n",
       "    </tr>\n",
       "    <tr>\n",
       "      <th>CO_UF_RESIDENCIA</th>\n",
       "      <td>CO_UF_RESIDENCIA</td>\n",
       "      <td>int64</td>\n",
       "      <td>0</td>\n",
       "      <td>0.00</td>\n",
       "    </tr>\n",
       "    <tr>\n",
       "      <th>CO_RISCO_ELEVADO</th>\n",
       "      <td>CO_RISCO_ELEVADO</td>\n",
       "      <td>int64</td>\n",
       "      <td>0</td>\n",
       "      <td>0.00</td>\n",
       "    </tr>\n",
       "    <tr>\n",
       "      <th>CO_TEMPO_EXAME</th>\n",
       "      <td>CO_TEMPO_EXAME</td>\n",
       "      <td>int64</td>\n",
       "      <td>0</td>\n",
       "      <td>0.00</td>\n",
       "    </tr>\n",
       "    <tr>\n",
       "      <th>CO_INTERVALO_EXAME</th>\n",
       "      <td>CO_INTERVALO_EXAME</td>\n",
       "      <td>int64</td>\n",
       "      <td>0</td>\n",
       "      <td>0.00</td>\n",
       "    </tr>\n",
       "    <tr>\n",
       "      <th>CO_INTERVALO_COLETA</th>\n",
       "      <td>CO_INTERVALO_COLETA</td>\n",
       "      <td>int64</td>\n",
       "      <td>0</td>\n",
       "      <td>0.00</td>\n",
       "    </tr>\n",
       "    <tr>\n",
       "      <th>CO_FAIXA_ETARIA_PACIENTE</th>\n",
       "      <td>CO_FAIXA_ETARIA_PACIENTE</td>\n",
       "      <td>int64</td>\n",
       "      <td>0</td>\n",
       "      <td>0.00</td>\n",
       "    </tr>\n",
       "    <tr>\n",
       "      <th>SG_SEXO</th>\n",
       "      <td>SG_SEXO</td>\n",
       "      <td>object</td>\n",
       "      <td>0</td>\n",
       "      <td>0.00</td>\n",
       "    </tr>\n",
       "    <tr>\n",
       "      <th>CO_RACA_COR</th>\n",
       "      <td>CO_RACA_COR</td>\n",
       "      <td>int64</td>\n",
       "      <td>0</td>\n",
       "      <td>0.00</td>\n",
       "    </tr>\n",
       "    <tr>\n",
       "      <th>NU_ANO_MES_COMPETENCIA</th>\n",
       "      <td>NU_ANO_MES_COMPETENCIA</td>\n",
       "      <td>int64</td>\n",
       "      <td>0</td>\n",
       "      <td>0.00</td>\n",
       "    </tr>\n",
       "    <tr>\n",
       "      <th>NU_ANO_COMPETENCIA</th>\n",
       "      <td>NU_ANO_COMPETENCIA</td>\n",
       "      <td>int64</td>\n",
       "      <td>0</td>\n",
       "      <td>0.00</td>\n",
       "    </tr>\n",
       "    <tr>\n",
       "      <th>CO_MUN_RESIDENCIA</th>\n",
       "      <td>CO_MUN_RESIDENCIA</td>\n",
       "      <td>int64</td>\n",
       "      <td>0</td>\n",
       "      <td>0.00</td>\n",
       "    </tr>\n",
       "    <tr>\n",
       "      <th>SG_UF_RESIDENCIA</th>\n",
       "      <td>SG_UF_RESIDENCIA</td>\n",
       "      <td>object</td>\n",
       "      <td>0</td>\n",
       "      <td>0.00</td>\n",
       "    </tr>\n",
       "  </tbody>\n",
       "</table>\n",
       "</div>"
      ],
      "text/plain": [
       "                                                        column     type  \\\n",
       "CO_ESCOLARIDADE                                CO_ESCOLARIDADE  float64   \n",
       "TP_PADR_CITO_MALIG_INDET              TP_PADR_CITO_MALIG_INDET  float64   \n",
       "TP_PADR_CITO_POSI_MALIG                TP_PADR_CITO_POSI_MALIG  float64   \n",
       "TP_PADR_CITO_SUSP_MALIG                TP_PADR_CITO_SUSP_MALIG  float64   \n",
       "TP_DESCARGA_PAPILAR                        TP_DESCARGA_PAPILAR  float64   \n",
       "TP_PADRAO_CITOPATOL_AMOST            TP_PADRAO_CITOPATOL_AMOST  float64   \n",
       "TP_PROC_BENI_NEGA_MALI_COMPATI  TP_PROC_BENI_NEGA_MALI_COMPATI  float64   \n",
       "TP_RESULTA_PUNCAO_ASPIRATIVA      TP_RESULTA_PUNCAO_ASPIRATIVA  float64   \n",
       "TP_NODULO                                            TP_NODULO  float64   \n",
       "CO_TEM_NODULO                                    CO_TEM_NODULO  float64   \n",
       "TP_MATERIAL                                        TP_MATERIAL    int64   \n",
       "CO_ANO_RESULTADO                              CO_ANO_RESULTADO    int64   \n",
       "TP_LAUDO_CITOP                                  TP_LAUDO_CITOP    int64   \n",
       "CO_PACIENTE                                        CO_PACIENTE    int64   \n",
       "TP_ADEQUABILIDAD_MATERIAL            TP_ADEQUABILIDAD_MATERIAL    int64   \n",
       "CO_SEQ_SISCAN_CITO_MAMA_PACNT    CO_SEQ_SISCAN_CITO_MAMA_PACNT    int64   \n",
       "TP_LATERALIDADE_MAMA                      TP_LATERALIDADE_MAMA    int64   \n",
       "CO_UF_RESIDENCIA                              CO_UF_RESIDENCIA    int64   \n",
       "CO_RISCO_ELEVADO                              CO_RISCO_ELEVADO    int64   \n",
       "CO_TEMPO_EXAME                                  CO_TEMPO_EXAME    int64   \n",
       "CO_INTERVALO_EXAME                          CO_INTERVALO_EXAME    int64   \n",
       "CO_INTERVALO_COLETA                        CO_INTERVALO_COLETA    int64   \n",
       "CO_FAIXA_ETARIA_PACIENTE              CO_FAIXA_ETARIA_PACIENTE    int64   \n",
       "SG_SEXO                                                SG_SEXO   object   \n",
       "CO_RACA_COR                                        CO_RACA_COR    int64   \n",
       "NU_ANO_MES_COMPETENCIA                  NU_ANO_MES_COMPETENCIA    int64   \n",
       "NU_ANO_COMPETENCIA                          NU_ANO_COMPETENCIA    int64   \n",
       "CO_MUN_RESIDENCIA                            CO_MUN_RESIDENCIA    int64   \n",
       "SG_UF_RESIDENCIA                              SG_UF_RESIDENCIA   object   \n",
       "\n",
       "                                 NA #   NA %  \n",
       "CO_ESCOLARIDADE                 78521  99.41  \n",
       "TP_PADR_CITO_MALIG_INDET        78383  99.24  \n",
       "TP_PADR_CITO_POSI_MALIG         76852  97.30  \n",
       "TP_PADR_CITO_SUSP_MALIG         76446  96.79  \n",
       "TP_DESCARGA_PAPILAR             63394  80.26  \n",
       "TP_PADRAO_CITOPATOL_AMOST       60830  77.02  \n",
       "TP_PROC_BENI_NEGA_MALI_COMPATI  33373  42.25  \n",
       "TP_RESULTA_PUNCAO_ASPIRATIVA    28100  35.58  \n",
       "TP_NODULO                       19447  24.62  \n",
       "CO_TEM_NODULO                    5454   6.91  \n",
       "TP_MATERIAL                         0   0.00  \n",
       "CO_ANO_RESULTADO                    0   0.00  \n",
       "TP_LAUDO_CITOP                      0   0.00  \n",
       "CO_PACIENTE                         0   0.00  \n",
       "TP_ADEQUABILIDAD_MATERIAL           0   0.00  \n",
       "CO_SEQ_SISCAN_CITO_MAMA_PACNT       0   0.00  \n",
       "TP_LATERALIDADE_MAMA                0   0.00  \n",
       "CO_UF_RESIDENCIA                    0   0.00  \n",
       "CO_RISCO_ELEVADO                    0   0.00  \n",
       "CO_TEMPO_EXAME                      0   0.00  \n",
       "CO_INTERVALO_EXAME                  0   0.00  \n",
       "CO_INTERVALO_COLETA                 0   0.00  \n",
       "CO_FAIXA_ETARIA_PACIENTE            0   0.00  \n",
       "SG_SEXO                             0   0.00  \n",
       "CO_RACA_COR                         0   0.00  \n",
       "NU_ANO_MES_COMPETENCIA              0   0.00  \n",
       "NU_ANO_COMPETENCIA                  0   0.00  \n",
       "CO_MUN_RESIDENCIA                   0   0.00  \n",
       "SG_UF_RESIDENCIA                    0   0.00  "
      ]
     },
     "execution_count": 13,
     "metadata": {},
     "output_type": "execute_result"
    }
   ],
   "source": [
    "# Informações da base como nome da coluna, tipo, quantidade e porcentagem de missing values\n",
    "exploration = pd.DataFrame({\n",
    "    'column': df.columns, 'type': df.dtypes, 'NA #': df.isna().sum(), 'NA %': round((df.isna().sum() / df.shape[0]) * 100, 2)\n",
    "})\n",
    "\n",
    "exploration.sort_values(by='NA %', ascending=False)"
   ]
  },
  {
   "cell_type": "code",
   "execution_count": 14,
   "metadata": {},
   "outputs": [],
   "source": [
    "df['SG_SEXO'] = df['SG_SEXO'].map({'F': 1, 'M': 0, 'I': 2})"
   ]
  },
  {
   "cell_type": "markdown",
   "metadata": {},
   "source": [
    "### 2.2 Detectando outliers"
   ]
  },
  {
   "cell_type": "markdown",
   "metadata": {},
   "source": [
    "Outliers, os famosos \"pontos fora da curva\", são observações que não parecem seguir o mesmo padrão dos demais dados. Eles podem vir de distribuições diferentes, serem erros na coleta de dados, erros de medição etc.\n",
    "\n",
    "Eles influenciam nossas análises e os nossos algoritmos ao apresentar comportamento distoante do resto do data set, impactando na média, variância, funções de perda e custo etc. Se fizer sentido, eles devem ser removidos ou transformados antes de prosseguirmos com a análise.\n",
    "\n",
    "No entanto, devemos julgar com cautela sua remoção: alguns outliers são dados autênticos e devem ser estudados com atenção. Por exemplo, a remoção de uma medição muito alta na temperatura de um reator seria um erro, pois essa medição pode estar nos indicando um potencial problema com o dispositivo.\n",
    "\n",
    "O boxplot é um tipo de gráfico que usamos para detectar possíveis outliers.\n",
    "\n",
    "No boxplot padrão, os dados mais extremos são mostrados como pontos fora do alcance dos whiskers (as barrinhas do box plot).\n",
    "\n",
    "Abaixo plotamos os boxplots das variáveis quantitativas:"
   ]
  },
  {
   "cell_type": "code",
   "execution_count": 8,
   "metadata": {},
   "outputs": [
    {
     "data": {
      "image/png": "[encoded data removed]",
      "text/plain": [
       "<Figure size 1440x432 with 3 Axes>"
      ]
     },
     "metadata": {},
     "output_type": "display_data"
    }
   ],
   "source": [
    "f,(ax1, ax2, ax3) = plt.subplots(1, 3, figsize=(20,6))\n",
    "\n",
    "colors = ['#B3F9C5', '#f9c5b3']\n",
    "# Boxplots with outliers removed\n",
    "\n",
    "# Feature CO_RACA_COR\n",
    "sns.boxplot(x=\"TP_LAUDO_CITOP\", y=\"CO_RACA_COR\", data=df,ax=ax1, palette=colors)\n",
    "ax1.set_title(\"CO_RACA_COR Feature \\n Reduction of outliers\", fontsize=14)\n",
    "\n",
    "# Feature CO_INTERVALO_COLETA\n",
    "sns.boxplot(x=\"TP_LAUDO_CITOP\", y=\"CO_INTERVALO_COLETA\", data=df, ax=ax2, palette=colors)\n",
    "ax2.set_title(\"CO_INTERVALO_COLETA Feature \\n Reduction of outliers\", fontsize=14)\n",
    "\n",
    "\n",
    "# Feature CO_TEMPO_EXAME\n",
    "sns.boxplot(x=\"TP_LAUDO_CITOP\", y=\"CO_TEMPO_EXAME\", data=df, ax=ax3, palette=colors)\n",
    "ax3.set_title(\"CO_TEMPO_EXAME Feature \\n Reduction of outliers\", fontsize=14)\n",
    "\n",
    "plt.show()"
   ]
  },
  {
   "cell_type": "markdown",
   "metadata": {},
   "source": [
    "Também podemos usar a gama interquartil. Que pode ser usado para ajudar a detectar valores atípicos. Tudo o que precisamos fazer é é o seguinte:\n",
    "\n",
    "    1 - Calcule o intervalo interquartil para os nossos dados\n",
    "    2 - Multiplicar o intervalo interquartil (IQR) pelo número 1.5\n",
    "    3 - Adicionar 1,5 x (IQR) para o terceiro quartil. Qualquer número maior que este é um outlier suspeita.\n",
    "    4 - Subtrair 1,5 x (IQR) a partir do primeiro quartil. Qualquer número menor que este é um outlier suspeita.\n",
    "É importante lembrar que esta é uma regra de ouro e geralmente detém. Em geral, devemos seguir em nossa análise. Qualquer outlier potencial obtido por esse método devem ser examinados no contexto de todo o conjunto de dados.\n",
    "\n",
    "**Tudo que estiver fora da faixa $[Q1 - 1.5 \\times \\text{IQR}, Q3 + 1.5 \\times \\text{IQR}]$ é considerado um ponto anômalo para aquele padrão**\n",
    "\n",
    "Agora podemos identificar quais pontos encontram-se fora desse intervalo, ou seja, podem ser considerados outliers."
   ]
  },
  {
   "cell_type": "code",
   "execution_count": 15,
   "metadata": {},
   "outputs": [],
   "source": [
    "def detect_outliers(df, n, features):\n",
    "    '''\n",
    "    Função responsável para detectar outliers no dataset\n",
    "    \n",
    "    --------\n",
    "    paramers:\n",
    "        df: dataset para analise\n",
    "        type: DataFrame ou Series\n",
    "        \n",
    "        n: informar o valor de até quantos outliers serão capturados\n",
    "        type: int\n",
    "        \n",
    "        features: atributos da base de dados\n",
    "        type: list\n",
    "        \n",
    "        return: list\n",
    "        \n",
    "    '''\n",
    "    \n",
    "    outlier_indices = []\n",
    "    \n",
    "    for col in features:\n",
    "        Q1 = np.percentile(df[col], 25) # Calcula o primeiro quartil\n",
    "        Q3 = np.percentile(df[col], 75) # calcula o terceiro quartil\n",
    "        \n",
    "        IQR = Q3 - Q1 # Calcula o intervalo intequartil\n",
    "        \n",
    "        outlier_step = 1.5 * IQR # Multiplica o intervalo intequartil por 1.5\n",
    "        \n",
    "        outlier_list_col = df[(df[col] < Q1 - outlier_step) | (df[col] > Q3 + outlier_step)].index # retorna os índices dos registros que contém outlier\n",
    "        \n",
    "        outlier_indices.extend(outlier_list_col) # lista que contém os índices\n",
    "        \n",
    "    outlier_indices = Counter(outlier_indices) # transforma esses índices e as contagens dos mesmos em um dicionário\n",
    "    multiple_outliers = list(k for k, v in outlier_indices.items() if v > n) # retorna os índices\n",
    "    \n",
    "    return multiple_outliers"
   ]
  },
  {
   "cell_type": "code",
   "execution_count": 16,
   "metadata": {},
   "outputs": [
    {
     "data": {
      "text/plain": [
       "[40440, 40873, 47677, 47681, 47687, 47695, 47697, 47703, 47704, 47716]"
      ]
     },
     "execution_count": 16,
     "metadata": {},
     "output_type": "execute_result"
    }
   ],
   "source": [
    "outliers_to_drop = detect_outliers(df, 2, list(df.select_dtypes(include=np.number).columns)) # pegando os índices dos valores discrepantes\n",
    "outliers_to_drop[:10]"
   ]
  },
  {
   "cell_type": "code",
   "execution_count": 17,
   "metadata": {},
   "outputs": [],
   "source": [
    "data = df.drop(outliers_to_drop, axis = 0).reset_index(drop=True) # remove os outliers da base"
   ]
  },
  {
   "cell_type": "markdown",
   "metadata": {},
   "source": [
    "### 2.3 Verificando se as classes estão desbalanceadas"
   ]
  },
  {
   "cell_type": "markdown",
   "metadata": {},
   "source": [
    "Quando temos classes A e B de 80:20 ou 90:10 é considerado um conjunto de dados desequilibrado . Se tivermos esse conjunto de dados, o modelo ficará enviesado e levará ao ajuste excessivo do modelo.\n",
    "\n",
    "A amostragem visa aumentar os registros da classe minoritária ou excluir os registros da classe majoritária para tornar o conjunto de dados como Conjunto de Dados Balanceado.\n",
    "\n",
    "Por isso a importância de verificar se as classes estão em desequilibio e usar um método equivalete para tratá-lo."
   ]
  },
  {
   "cell_type": "code",
   "execution_count": 18,
   "metadata": {},
   "outputs": [
    {
     "data": {
      "image/png": "[encoded data removed]",
      "text/plain": [
       "<Figure size 720x360 with 1 Axes>"
      ]
     },
     "metadata": {},
     "output_type": "display_data"
    }
   ],
   "source": [
    "sns.countplot(x='TP_LAUDO_CITOP', data=data) # plota um gráfico countplot para verificar a distribuição das classes \n",
    "plt.title('Base CITO - TP_LAUDO_CITOP', fontsize=14)\n",
    "plt.show()"
   ]
  },
  {
   "cell_type": "code",
   "execution_count": 13,
   "metadata": {},
   "outputs": [
    {
     "data": {
      "text/plain": [
       "4    44347\n",
       "5    12149\n",
       "6     7229\n",
       "2     1906\n",
       "1     1623\n",
       "3      741\n",
       "Name: TP_LAUDO_CITOP, dtype: int64"
      ]
     },
     "execution_count": 13,
     "metadata": {},
     "output_type": "execute_result"
    }
   ],
   "source": [
    "data['TP_LAUDO_CITOP'].value_counts()"
   ]
  },
  {
   "cell_type": "code",
   "execution_count": 14,
   "metadata": {},
   "outputs": [
    {
     "data": {
      "text/plain": [
       "array([2125, 4778, 2717,  632,  595,  142])"
      ]
     },
     "execution_count": 14,
     "metadata": {},
     "output_type": "execute_result"
    }
   ],
   "source": [
    "# Quantidade de registros detectados como outliers em cada classe\n",
    "(np.array(data['TP_LAUDO_CITOP'].value_counts().values) - np.array(df['TP_LAUDO_CITOP'].value_counts().values)) * (-1)"
   ]
  },
  {
   "cell_type": "markdown",
   "metadata": {},
   "source": [
    "### 2.3 - Verificando missing values"
   ]
  },
  {
   "cell_type": "code",
   "execution_count": 15,
   "metadata": {},
   "outputs": [
    {
     "data": {
      "text/html": [
       "<div>\n",
       "<style scoped>\n",
       "    .dataframe tbody tr th:only-of-type {\n",
       "        vertical-align: middle;\n",
       "    }\n",
       "\n",
       "    .dataframe tbody tr th {\n",
       "        vertical-align: top;\n",
       "    }\n",
       "\n",
       "    .dataframe thead th {\n",
       "        text-align: right;\n",
       "    }\n",
       "</style>\n",
       "<table border=\"1\" class=\"dataframe\">\n",
       "  <thead>\n",
       "    <tr style=\"text-align: right;\">\n",
       "      <th></th>\n",
       "      <th>column</th>\n",
       "      <th>type</th>\n",
       "      <th>NA #</th>\n",
       "      <th>NA %</th>\n",
       "    </tr>\n",
       "  </thead>\n",
       "  <tbody>\n",
       "    <tr>\n",
       "      <th>CO_ESCOLARIDADE</th>\n",
       "      <td>CO_ESCOLARIDADE</td>\n",
       "      <td>float64</td>\n",
       "      <td>78521</td>\n",
       "      <td>99.41</td>\n",
       "    </tr>\n",
       "    <tr>\n",
       "      <th>TP_PADR_CITO_MALIG_INDET</th>\n",
       "      <td>TP_PADR_CITO_MALIG_INDET</td>\n",
       "      <td>float64</td>\n",
       "      <td>78383</td>\n",
       "      <td>99.24</td>\n",
       "    </tr>\n",
       "    <tr>\n",
       "      <th>TP_PADR_CITO_POSI_MALIG</th>\n",
       "      <td>TP_PADR_CITO_POSI_MALIG</td>\n",
       "      <td>float64</td>\n",
       "      <td>76852</td>\n",
       "      <td>97.30</td>\n",
       "    </tr>\n",
       "    <tr>\n",
       "      <th>TP_PADR_CITO_SUSP_MALIG</th>\n",
       "      <td>TP_PADR_CITO_SUSP_MALIG</td>\n",
       "      <td>float64</td>\n",
       "      <td>76446</td>\n",
       "      <td>96.79</td>\n",
       "    </tr>\n",
       "    <tr>\n",
       "      <th>TP_DESCARGA_PAPILAR</th>\n",
       "      <td>TP_DESCARGA_PAPILAR</td>\n",
       "      <td>float64</td>\n",
       "      <td>63394</td>\n",
       "      <td>80.26</td>\n",
       "    </tr>\n",
       "    <tr>\n",
       "      <th>TP_PADRAO_CITOPATOL_AMOST</th>\n",
       "      <td>TP_PADRAO_CITOPATOL_AMOST</td>\n",
       "      <td>float64</td>\n",
       "      <td>60830</td>\n",
       "      <td>77.02</td>\n",
       "    </tr>\n",
       "    <tr>\n",
       "      <th>TP_PROC_BENI_NEGA_MALI_COMPATI</th>\n",
       "      <td>TP_PROC_BENI_NEGA_MALI_COMPATI</td>\n",
       "      <td>float64</td>\n",
       "      <td>33373</td>\n",
       "      <td>42.25</td>\n",
       "    </tr>\n",
       "    <tr>\n",
       "      <th>TP_RESULTA_PUNCAO_ASPIRATIVA</th>\n",
       "      <td>TP_RESULTA_PUNCAO_ASPIRATIVA</td>\n",
       "      <td>float64</td>\n",
       "      <td>28100</td>\n",
       "      <td>35.58</td>\n",
       "    </tr>\n",
       "    <tr>\n",
       "      <th>TP_NODULO</th>\n",
       "      <td>TP_NODULO</td>\n",
       "      <td>float64</td>\n",
       "      <td>19447</td>\n",
       "      <td>24.62</td>\n",
       "    </tr>\n",
       "    <tr>\n",
       "      <th>CO_TEM_NODULO</th>\n",
       "      <td>CO_TEM_NODULO</td>\n",
       "      <td>float64</td>\n",
       "      <td>5454</td>\n",
       "      <td>6.91</td>\n",
       "    </tr>\n",
       "  </tbody>\n",
       "</table>\n",
       "</div>"
      ],
      "text/plain": [
       "                                                        column     type  \\\n",
       "CO_ESCOLARIDADE                                CO_ESCOLARIDADE  float64   \n",
       "TP_PADR_CITO_MALIG_INDET              TP_PADR_CITO_MALIG_INDET  float64   \n",
       "TP_PADR_CITO_POSI_MALIG                TP_PADR_CITO_POSI_MALIG  float64   \n",
       "TP_PADR_CITO_SUSP_MALIG                TP_PADR_CITO_SUSP_MALIG  float64   \n",
       "TP_DESCARGA_PAPILAR                        TP_DESCARGA_PAPILAR  float64   \n",
       "TP_PADRAO_CITOPATOL_AMOST            TP_PADRAO_CITOPATOL_AMOST  float64   \n",
       "TP_PROC_BENI_NEGA_MALI_COMPATI  TP_PROC_BENI_NEGA_MALI_COMPATI  float64   \n",
       "TP_RESULTA_PUNCAO_ASPIRATIVA      TP_RESULTA_PUNCAO_ASPIRATIVA  float64   \n",
       "TP_NODULO                                            TP_NODULO  float64   \n",
       "CO_TEM_NODULO                                    CO_TEM_NODULO  float64   \n",
       "\n",
       "                                 NA #   NA %  \n",
       "CO_ESCOLARIDADE                 78521  99.41  \n",
       "TP_PADR_CITO_MALIG_INDET        78383  99.24  \n",
       "TP_PADR_CITO_POSI_MALIG         76852  97.30  \n",
       "TP_PADR_CITO_SUSP_MALIG         76446  96.79  \n",
       "TP_DESCARGA_PAPILAR             63394  80.26  \n",
       "TP_PADRAO_CITOPATOL_AMOST       60830  77.02  \n",
       "TP_PROC_BENI_NEGA_MALI_COMPATI  33373  42.25  \n",
       "TP_RESULTA_PUNCAO_ASPIRATIVA    28100  35.58  \n",
       "TP_NODULO                       19447  24.62  \n",
       "CO_TEM_NODULO                    5454   6.91  "
      ]
     },
     "execution_count": 15,
     "metadata": {},
     "output_type": "execute_result"
    }
   ],
   "source": [
    "exploration[exploration['NA %'] > 0].sort_values(by='NA %', ascending=False)"
   ]
  },
  {
   "cell_type": "code",
   "execution_count": 16,
   "metadata": {},
   "outputs": [],
   "source": [
    "data = df.drop(exploration[exploration['NA %'] > 70]['column'], axis=1) # removendo as colunas com mais de 70% de valores ausentes"
   ]
  },
  {
   "cell_type": "markdown",
   "metadata": {},
   "source": [
    "## 3 - Analisando as variáveis (Quantitativas e Qualitativas)"
   ]
  },
  {
   "cell_type": "markdown",
   "metadata": {},
   "source": [
    "Nesta seção será realizado análises separadamente das features numéricas das categóricas. Essa fase é de extrema importância, pois podemos tirar insights valiosos que nos ajuda na modelagem dos algoritmos de machine learning."
   ]
  },
  {
   "cell_type": "code",
   "execution_count": 17,
   "metadata": {},
   "outputs": [],
   "source": [
    "num_features = data.select_dtypes(include=[np.number]).copy() # pega apenas as features quantitativas\n",
    "cat_features = data.select_dtypes(exclude=[np.number]).copy() # pega apenas as features qualitativas"
   ]
  },
  {
   "cell_type": "markdown",
   "metadata": {},
   "source": [
    "### 3.1 Quantitativas"
   ]
  },
  {
   "cell_type": "code",
   "execution_count": 18,
   "metadata": {},
   "outputs": [
    {
     "data": {
      "image/png": "[encoded data removed]",
      "text/plain": [
       "<Figure size 1440x720 with 2 Axes>"
      ]
     },
     "metadata": {},
     "output_type": "display_data"
    }
   ],
   "source": [
    "# Calcula a correlação das variáveis quantitativas usando o método de Person\n",
    "plt.figure(figsize=(20, 10))\n",
    "sns.heatmap(num_features.corr(), annot=True, fmt='.4f', cmap='coolwarm')\n",
    "plt.show()"
   ]
  },
  {
   "cell_type": "code",
   "execution_count": 19,
   "metadata": {},
   "outputs": [],
   "source": [
    "feature_select = num_features.corr()[num_features.corr()['TP_LAUDO_CITOP'] > 0].index"
   ]
  },
  {
   "cell_type": "code",
   "execution_count": 20,
   "metadata": {},
   "outputs": [
    {
     "data": {
      "image/png": "[encoded data removed]",
      "text/plain": [
       "<Figure size 432x432 with 1 Axes>"
      ]
     },
     "metadata": {},
     "output_type": "display_data"
    }
   ],
   "source": [
    "# Plota o catplot das variáveis TP_LATERALIDADE_MAMA e TP_LAUDO_CITOP.\n",
    "g = sns.catplot(x=\"TP_LATERALIDADE_MAMA\", y=\"TP_LAUDO_CITOP\", data=num_features, kind=\"bar\", height= 6, palette = \"muted\")\n",
    "g.despine(left=True)\n",
    "plt.show()"
   ]
  },
  {
   "cell_type": "code",
   "execution_count": 21,
   "metadata": {},
   "outputs": [
    {
     "data": {
      "image/png": "[encoded data removed]",
      "text/plain": [
       "<Figure size 432x432 with 1 Axes>"
      ]
     },
     "metadata": {},
     "output_type": "display_data"
    }
   ],
   "source": [
    "# Plota o catplot das variáveis Education_Num e Target.\n",
    "g = sns.catplot(x=\"TP_ADEQUABILIDAD_MATERIAL\", y=\"TP_LAUDO_CITOP\", data=num_features, kind=\"bar\", height= 6, palette = \"muted\")\n",
    "g.despine(left=True)\n",
    "plt.show()"
   ]
  },
  {
   "cell_type": "code",
   "execution_count": 22,
   "metadata": {},
   "outputs": [
    {
     "data": {
      "image/png": "[encoded data removed]",
      "text/plain": [
       "<Figure size 432x432 with 1 Axes>"
      ]
     },
     "metadata": {},
     "output_type": "display_data"
    }
   ],
   "source": [
    "# Plota o catplot das variáveis Education_Num e Target.\n",
    "g = sns.catplot(x=\"TP_NODULO\", y=\"TP_LAUDO_CITOP\", data=num_features, kind=\"bar\", height= 6, palette = \"muted\")\n",
    "g.despine(left=True)\n",
    "plt.show()"
   ]
  },
  {
   "cell_type": "markdown",
   "metadata": {},
   "source": [
    "### 3.2 - Quanlitativas"
   ]
  },
  {
   "cell_type": "code",
   "execution_count": 23,
   "metadata": {},
   "outputs": [
    {
     "data": {
      "image/png": "[encoded data removed]",
      "text/plain": [
       "<Figure size 720x360 with 1 Axes>"
      ]
     },
     "metadata": {},
     "output_type": "display_data"
    }
   ],
   "source": [
    "# Plota um barplot da variável Sex\n",
    "g = sns.barplot(x=\"SG_UF_RESIDENCIA\", y=\"TP_LAUDO_CITOP\", data=data)\n",
    "g.set_ylabel(\"\")\n",
    "plt.show()"
   ]
  },
  {
   "cell_type": "markdown",
   "metadata": {},
   "source": [
    "## 4 - Preenchendo valores ausentes"
   ]
  },
  {
   "cell_type": "code",
   "execution_count": 24,
   "metadata": {},
   "outputs": [
    {
     "data": {
      "text/plain": [
       "CO_SEQ_SISCAN_CITO_MAMA_PACNT         0\n",
       "CO_UF_RESIDENCIA                      0\n",
       "CO_MUN_RESIDENCIA                     0\n",
       "NU_ANO_COMPETENCIA                    0\n",
       "NU_ANO_MES_COMPETENCIA                0\n",
       "CO_RACA_COR                           0\n",
       "SG_SEXO                               0\n",
       "CO_FAIXA_ETARIA_PACIENTE              0\n",
       "CO_INTERVALO_COLETA                   0\n",
       "CO_INTERVALO_EXAME                    0\n",
       "CO_TEMPO_EXAME                        0\n",
       "CO_RISCO_ELEVADO                      0\n",
       "TP_NODULO                         19447\n",
       "TP_LATERALIDADE_MAMA                  0\n",
       "TP_MATERIAL                           0\n",
       "TP_ADEQUABILIDAD_MATERIAL             0\n",
       "TP_RESULTA_PUNCAO_ASPIRATIVA      28100\n",
       "TP_PROC_BENI_NEGA_MALI_COMPATI    33373\n",
       "CO_PACIENTE                           0\n",
       "TP_LAUDO_CITOP                        0\n",
       "CO_TEM_NODULO                      5454\n",
       "CO_ANO_RESULTADO                      0\n",
       "dtype: int64"
      ]
     },
     "execution_count": 24,
     "metadata": {},
     "output_type": "execute_result"
    }
   ],
   "source": [
    "num_features.isna().sum()"
   ]
  },
  {
   "cell_type": "code",
   "execution_count": 25,
   "metadata": {},
   "outputs": [],
   "source": [
    "num_features['TP_NODULO'].fillna(-1, inplace=True) # Substituir por -1"
   ]
  },
  {
   "cell_type": "code",
   "execution_count": 26,
   "metadata": {},
   "outputs": [],
   "source": [
    "num_features['TP_RESULTA_PUNCAO_ASPIRATIVA'].fillna(-1, inplace=True) # Substituir por -1"
   ]
  },
  {
   "cell_type": "code",
   "execution_count": 27,
   "metadata": {},
   "outputs": [],
   "source": [
    "num_features['TP_PROC_BENI_NEGA_MALI_COMPATI'].fillna(-1, inplace=True) # Substituir por -1"
   ]
  },
  {
   "cell_type": "code",
   "execution_count": 28,
   "metadata": {},
   "outputs": [],
   "source": [
    "num_features['CO_TEM_NODULO'].fillna(-1, inplace=True) # Substituir por -1"
   ]
  },
  {
   "cell_type": "markdown",
   "metadata": {},
   "source": [
    "## 5 - Feature Engineering (Sem pipeline)"
   ]
  },
  {
   "cell_type": "markdown",
   "metadata": {},
   "source": [
    "#### Variáveis numéricas"
   ]
  },
  {
   "cell_type": "markdown",
   "metadata": {},
   "source": [
    "Padronização é o processo de tornar a variável com média zero e variância um.\n",
    "\n",
    "O processo é simples, basta subtrair a média dos dados de cada observação e dividi-los pelo desvio-padrão:\n",
    "\n",
    "$$x_{\\text{standardized}} = \\frac{x - \\bar{x}}{s}$$\n",
    "onde $\\bar{x}$ indica a média amostral e $s$ o desvio-padrão amostral."
   ]
  },
  {
   "cell_type": "code",
   "execution_count": 29,
   "metadata": {},
   "outputs": [],
   "source": [
    "for col in num_features.columns:\n",
    "    if not 'TP_LAUDO_CITOP' in col: \n",
    "        scaler = StandardScaler()\n",
    "        num_features[col] = scaler.fit_transform(num_features[col].values.reshape(-1, 1)) # aplica a padronização em todas as variáveis numéricas"
   ]
  },
  {
   "cell_type": "markdown",
   "metadata": {},
   "source": [
    "#### Variáveis categóricas"
   ]
  },
  {
   "cell_type": "code",
   "execution_count": 30,
   "metadata": {},
   "outputs": [],
   "source": [
    "onehot_encoder = OrdinalEncoder()\n",
    "onehot_encoder.fit(cat_features.values.reshape(-1, 1))\n",
    "cat_features['SG_UF_RESIDENCIA'] = onehot_encoder.transform(cat_features.values.reshape(-1, 1))"
   ]
  },
  {
   "cell_type": "markdown",
   "metadata": {},
   "source": [
    "#### Balanceando as classes"
   ]
  },
  {
   "cell_type": "code",
   "execution_count": 31,
   "metadata": {},
   "outputs": [],
   "source": [
    "X = num_features.drop('TP_LAUDO_CITOP', axis=1).copy()\n",
    "y = num_features['TP_LAUDO_CITOP']"
   ]
  },
  {
   "cell_type": "code",
   "execution_count": 32,
   "metadata": {},
   "outputs": [],
   "source": [
    "X_train, X_test, y_train, y_test = train_test_split(X, y, test_size=.5, random_state=1996)"
   ]
  },
  {
   "cell_type": "code",
   "execution_count": 33,
   "metadata": {},
   "outputs": [],
   "source": [
    "X_train, y_train = SMOTE().fit_resample(X_train, y_train)"
   ]
  },
  {
   "cell_type": "markdown",
   "metadata": {},
   "source": [
    "## 6 - Modelagem"
   ]
  },
  {
   "cell_type": "markdown",
   "metadata": {},
   "source": [
    "Nesta seção iremos modelar os dados em algoritmos de aprendizagem supervicionado para problemas de classificação.\n",
    "\n",
    "Vamos testar 5 algoritmos de machine learning:\n",
    "\n",
    "    1 - Random Forest\n",
    "    2 - AdaBoost\n",
    "    3 - GradientBoosting\n",
    "    4 - ExtraTrees\n",
    "    5 - DecisionTree\n",
    "\n",
    "Todos esses algoritmos são baseados em árvores"
   ]
  },
  {
   "cell_type": "markdown",
   "metadata": {},
   "source": [
    "#### 6.1 - Validação"
   ]
  },
  {
   "cell_type": "markdown",
   "metadata": {},
   "source": [
    "Nesta subseção iremos usar os algoritmos de machine learning sem fazer configurações de hyperparametros, servirá apenas como validação, também assim como uma forma de baseline."
   ]
  },
  {
   "cell_type": "code",
   "execution_count": 39,
   "metadata": {},
   "outputs": [],
   "source": [
    "s_kfold = StratifiedKFold(n_splits=5, shuffle=True, random_state=42) # Validação cruzada com 5 folders"
   ]
  },
  {
   "cell_type": "markdown",
   "metadata": {},
   "source": [
    "##### Random Forest"
   ]
  },
  {
   "cell_type": "code",
   "execution_count": 48,
   "metadata": {},
   "outputs": [
    {
     "data": {
      "text/plain": [
       "0.9949112541129667"
      ]
     },
     "execution_count": 48,
     "metadata": {},
     "output_type": "execute_result"
    }
   ],
   "source": [
    "rf = RandomForestClassifier(n_estimators=100, random_state=0)\n",
    "rf_result = cross_val_score(rf, X_train, y_train, cv=s_kfold).mean() # retorna a média dos scores de cada etapa da validação\n",
    "rf_result"
   ]
  },
  {
   "cell_type": "markdown",
   "metadata": {},
   "source": [
    "##### AdaBoostClassifier"
   ]
  },
  {
   "cell_type": "code",
   "execution_count": 49,
   "metadata": {},
   "outputs": [
    {
     "data": {
      "text/plain": [
       "0.6637033427765042"
      ]
     },
     "execution_count": 49,
     "metadata": {},
     "output_type": "execute_result"
    }
   ],
   "source": [
    "ada = AdaBoostClassifier(n_estimators=100, random_state=0)\n",
    "ada_result = cross_val_score(ada, X_train, y_train, cv=s_kfold).mean() # retorna a média dos scores de cada etapa da validação\n",
    "ada_result"
   ]
  },
  {
   "cell_type": "markdown",
   "metadata": {},
   "source": [
    "##### GradientBoostingClassifier"
   ]
  },
  {
   "cell_type": "code",
   "execution_count": 50,
   "metadata": {},
   "outputs": [
    {
     "data": {
      "text/plain": [
       "0.9706886247987978"
      ]
     },
     "execution_count": 50,
     "metadata": {},
     "output_type": "execute_result"
    }
   ],
   "source": [
    "gboost = GradientBoostingClassifier(n_estimators=100, random_state=0)\n",
    "gboost_result = cross_val_score(gboost, X_train, y_train, cv=s_kfold).mean() # retorna a média dos scores de cada etapa da validação\n",
    "gboost_result"
   ]
  },
  {
   "cell_type": "markdown",
   "metadata": {},
   "source": [
    "##### ExtraTreesClassifier"
   ]
  },
  {
   "cell_type": "code",
   "execution_count": 51,
   "metadata": {},
   "outputs": [
    {
     "data": {
      "text/plain": [
       "0.9961476775549605"
      ]
     },
     "execution_count": 51,
     "metadata": {},
     "output_type": "execute_result"
    }
   ],
   "source": [
    "etrees = ExtraTreesClassifier(n_estimators=100, random_state=0)\n",
    "etrees_result = cross_val_score(etrees, X_train, y_train, cv=s_kfold).mean() # retorna a média dos scores de cada etapa da validação\n",
    "etrees_result"
   ]
  },
  {
   "cell_type": "markdown",
   "metadata": {},
   "source": [
    "##### DecisionTreeClassifier"
   ]
  },
  {
   "cell_type": "code",
   "execution_count": 52,
   "metadata": {},
   "outputs": [
    {
     "data": {
      "text/plain": [
       "0.496924273591152"
      ]
     },
     "execution_count": 52,
     "metadata": {},
     "output_type": "execute_result"
    }
   ],
   "source": [
    "tree = DecisionTreeClassifier(max_depth=2, random_state=0)\n",
    "tree_result = cross_val_score(tree, X_train, y_train, cv=s_kfold).mean() # retorna a média dos scores de cada etapa da validação\n",
    "tree_result"
   ]
  },
  {
   "cell_type": "markdown",
   "metadata": {},
   "source": [
    "#### 6.2 - Criando o pipeline para a modelagem"
   ]
  },
  {
   "cell_type": "code",
   "execution_count": 79,
   "metadata": {},
   "outputs": [],
   "source": [
    "# Pipeline responsável por imputar os dados e aplica o onehot encoder(variáveis categóricas nominais)\n",
    "num_features_transformer = Pipeline(steps=[\n",
    "    ('imputer', SimpleImputer(fill_value=-1)),\n",
    "    ('std_scaler', StandardScaler())\n",
    "])\n",
    "\n",
    "# Pipeline responsável por aplica ordinal encoder nas variável categórica ordinal\n",
    "cat_ordinal_transformer = Pipeline(steps=[\n",
    "    ('ordinal encoder', OrdinalEncoder())\n",
    "])\n",
    "\n",
    "# Reune todos os pipeline de transformação\n",
    "preprocessor = ColumnTransformer(transformers=[\n",
    "    ('num_features', num_features_transformer, num_features.drop('TP_LAUDO_CITOP', axis=1).columns),\n",
    "    #('cat_features', cat_ordinal_transformer, cat_features.columns)\n",
    "])\n",
    "\n",
    "\n",
    "# No final não estou usando nenhuma variável qualitativa, por enquanto."
   ]
  },
  {
   "cell_type": "code",
   "execution_count": 80,
   "metadata": {},
   "outputs": [],
   "source": [
    "def apply_pipeline(estimator, X, y, **kwargs):\n",
    "    '''\n",
    "    Função responsável por aplica todo o pepile de transformações nos dados\n",
    "    parameters:\n",
    "        estimator: Classificador\n",
    "        type: sklearn object\n",
    "        \n",
    "        X: features\n",
    "        type: matriz ou pandas.DataFrame\n",
    "        \n",
    "        y: class\n",
    "        type: array 1-D ou pandas.Series\n",
    "        \n",
    "        return object pipeline\n",
    "    '''\n",
    "\n",
    "    smt = SMOTE(**kwargs)\n",
    "\n",
    "    pipeline = Pipeline(steps=[\n",
    "        ('preprocessor', preprocessor),\n",
    "        ('smote', smt),\n",
    "        ('cls', estimator)\n",
    "    ])\n",
    "    \n",
    "    pipeline.fit(X, y)\n",
    "    \n",
    "    return pipeline"
   ]
  },
  {
   "cell_type": "markdown",
   "metadata": {},
   "source": [
    "### 6.3 - Pesquisa por hiperparametros (Turning Model)"
   ]
  },
  {
   "cell_type": "markdown",
   "metadata": {},
   "source": [
    "Os hiperparâmetros são importantes, pois controlam diretamente o comportamento do algoritmo de treinamento, tendo um impacto importante no desempenho do modelo em treinamento.\n",
    "\n",
    "A escolha de hiperparâmetros apropriados desempenha um papel fundamental, dado o impacto no modelo aprendido. Por exemplo, se a taxa de aprendizado for muito baixa, o modelo perderá os padrões importantes nos dados; inversamente, se for alto, pode haver colisões.\n",
    "\n",
    "A escolha de bons hiperparâmetros oferece dois benefícios principais:\n",
    "\n",
    "* Pesquisa eficiente no espaço de possíveis hiperparâmetros; e\n",
    "* Gerenciamento mais fácil de um grande conjunto de experimentos para ajuste de hiperparâmetros.\n",
    "\n",
    "**É por isso que é importante a pesquisa por hyperparâmetros.**"
   ]
  },
  {
   "cell_type": "code",
   "execution_count": 81,
   "metadata": {},
   "outputs": [],
   "source": [
    "def turning_model(estimator, X, y, params, n_splits=5, random_state=0, n_jobs=-1):\n",
    "    s_kfold = StratifiedKFold(n_splits=n_splits, shuffle=True, random_state=random_state) # Validação cruzada com 5 folders\n",
    "    \n",
    "    # Realiza a pesquisa dos hyperparâmetros\n",
    "    random_cv = RandomizedSearchCV(estimator, param_distributions=params, cv=s_kfold, n_jobs=n_jobs, return_train_score=True)\n",
    "    random_cv.fit(X=X, y=y)\n",
    "    \n",
    "    return random_cv"
   ]
  },
  {
   "cell_type": "markdown",
   "metadata": {},
   "source": [
    "##### DecisionTreeClassifier"
   ]
  },
  {
   "cell_type": "code",
   "execution_count": 82,
   "metadata": {},
   "outputs": [],
   "source": [
    "tree_pipeline = apply_pipeline(DecisionTreeClassifier(), X_train, y_train) # pipeline do modelo DecisionTree\n",
    "\n",
    "# hyperparâmetros que serão reconfiguráveis\n",
    "tree_params = {\n",
    "        'cls__criterion': ['gini', 'entropy'],\n",
    "        'cls__max_depth': [10, 20, 30, 40, 50, None],\n",
    "        'cls__max_features': ['auto', 'log2'],\n",
    "        'cls__min_samples_leaf': [1, 2, 4],\n",
    "        'cls__min_samples_split': [2, 5, 10]\n",
    "}\n",
    "\n",
    "tree_cv = turning_model(tree_pipeline, X_train, y_train, params=tree_params) # retorna o modelo otimizado"
   ]
  },
  {
   "cell_type": "code",
   "execution_count": 83,
   "metadata": {},
   "outputs": [
    {
     "data": {
      "text/plain": [
       "({'cls__min_samples_split': 10,\n",
       "  'cls__min_samples_leaf': 2,\n",
       "  'cls__max_features': 'auto',\n",
       "  'cls__max_depth': 30,\n",
       "  'cls__criterion': 'entropy'},\n",
       " 0.9774020774627843)"
      ]
     },
     "execution_count": 83,
     "metadata": {},
     "output_type": "execute_result"
    }
   ],
   "source": [
    "tree_cv.best_params_, tree_cv.best_score_"
   ]
  },
  {
   "cell_type": "markdown",
   "metadata": {},
   "source": [
    "##### AdaBoostClassifier"
   ]
  },
  {
   "cell_type": "code",
   "execution_count": 84,
   "metadata": {},
   "outputs": [],
   "source": [
    "ada_pipeline = apply_pipeline(AdaBoostClassifier(), X_train, y_train) # pipeline do modelo AdaBoost\n",
    "\n",
    "# hyperparâmetros que serão reconfiguráveis\n",
    "ada_params = {\n",
    "        'cls__n_estimators': [200, 400, 600, 800, 1000, 1200],\n",
    "        'cls__learning_rate': [0.001, 0.01, 0.1, 0.5, 1.0],\n",
    "        'cls__algorithm': ['SAMME', 'SAMME.R']\n",
    "}\n",
    "\n",
    "ada_cv = turning_model(ada_pipeline, X_train, y_train, params=ada_params) # retorna o modelo otimizado"
   ]
  },
  {
   "cell_type": "code",
   "execution_count": 85,
   "metadata": {},
   "outputs": [
    {
     "data": {
      "text/plain": [
       "({'cls__n_estimators': 1000,\n",
       "  'cls__learning_rate': 0.5,\n",
       "  'cls__algorithm': 'SAMME'},\n",
       " 0.8960280542396619)"
      ]
     },
     "execution_count": 85,
     "metadata": {},
     "output_type": "execute_result"
    }
   ],
   "source": [
    "ada_cv.best_params_, ada_cv.best_score_"
   ]
  },
  {
   "cell_type": "markdown",
   "metadata": {},
   "source": [
    "##### ExtraTreesClassifier"
   ]
  },
  {
   "cell_type": "code",
   "execution_count": 86,
   "metadata": {},
   "outputs": [
    {
     "name": "stderr",
     "output_type": "stream",
     "text": [
      "/home/igobarros/anaconda3/lib/python3.8/site-packages/joblib/externals/loky/process_executor.py:688: UserWarning: A worker stopped while some jobs were given to the executor. This can be caused by a too short worker timeout or by a memory leak.\n",
      "  warnings.warn(\n"
     ]
    }
   ],
   "source": [
    "etrees_pipeline = apply_pipeline(ExtraTreesClassifier(), X_train, y_train) # pipeline do modelo ExtraTrees\n",
    "\n",
    "# hyperparâmetros que serão reconfiguráveis\n",
    "etrees_params = {\n",
    "        'cls__bootstrap': [True, False],\n",
    "        'cls__max_depth': [10, 20, 30, 40, 50, None],\n",
    "        'cls__max_features': ['auto', 'log2'],\n",
    "        'cls__min_samples_leaf': [1, 2, 4],\n",
    "        'cls__min_samples_split': [2, 5, 10],\n",
    "        'cls__n_estimators': [200, 400, 600, 800, 1000]\n",
    "}\n",
    "\n",
    "etrees_cv = turning_model(etrees_pipeline, X_train, y_train, params=etrees_params) # retorna o modelo otimizado"
   ]
  },
  {
   "cell_type": "code",
   "execution_count": 87,
   "metadata": {},
   "outputs": [
    {
     "data": {
      "text/plain": [
       "({'cls__n_estimators': 600,\n",
       "  'cls__min_samples_split': 2,\n",
       "  'cls__min_samples_leaf': 1,\n",
       "  'cls__max_features': 'auto',\n",
       "  'cls__max_depth': 30,\n",
       "  'cls__bootstrap': False},\n",
       " 0.9959586366784992)"
      ]
     },
     "execution_count": 87,
     "metadata": {},
     "output_type": "execute_result"
    }
   ],
   "source": [
    "etrees_cv.best_params_, etrees_cv.best_score_"
   ]
  },
  {
   "cell_type": "markdown",
   "metadata": {},
   "source": [
    "##### RandomForestClassifier"
   ]
  },
  {
   "cell_type": "code",
   "execution_count": 88,
   "metadata": {},
   "outputs": [
    {
     "name": "stderr",
     "output_type": "stream",
     "text": [
      "/home/igobarros/anaconda3/lib/python3.8/site-packages/joblib/externals/loky/process_executor.py:688: UserWarning: A worker stopped while some jobs were given to the executor. This can be caused by a too short worker timeout or by a memory leak.\n",
      "  warnings.warn(\n"
     ]
    }
   ],
   "source": [
    "rf_pipeline = apply_pipeline(RandomForestClassifier(), X_train, y_train) # pipeline do modelo RandomForest\n",
    "\n",
    "# hyperparâmetros que serão reconfiguráveis\n",
    "rf_params = {\n",
    "        'cls__bootstrap': [True, False],\n",
    "        'cls__max_depth': [10, 20, 30, 40, 50, None],\n",
    "        'cls__max_features': ['auto', 'log2'],\n",
    "        'cls__min_samples_leaf': [1, 2, 4],\n",
    "        'cls__min_samples_split': [2, 5, 10],\n",
    "        'cls__n_estimators': [200, 400, 600, 800, 1000]\n",
    "}\n",
    "\n",
    "rf_cv = turning_model(rf_pipeline, X_train, y_train, params=rf_params) # retorna o modelo otimizado"
   ]
  },
  {
   "cell_type": "code",
   "execution_count": 89,
   "metadata": {},
   "outputs": [
    {
     "data": {
      "text/plain": [
       "({'cls__n_estimators': 800,\n",
       "  'cls__min_samples_split': 5,\n",
       "  'cls__min_samples_leaf': 1,\n",
       "  'cls__max_features': 'log2',\n",
       "  'cls__max_depth': 40,\n",
       "  'cls__bootstrap': False},\n",
       " 0.9950440948612306)"
      ]
     },
     "execution_count": 89,
     "metadata": {},
     "output_type": "execute_result"
    }
   ],
   "source": [
    "rf_cv.best_params_, rf_cv.best_score_"
   ]
  },
  {
   "cell_type": "markdown",
   "metadata": {},
   "source": [
    "### 6.4 - Plotando as linhas de aprendizado dos modelos"
   ]
  },
  {
   "cell_type": "code",
   "execution_count": 90,
   "metadata": {},
   "outputs": [],
   "source": [
    "def plot_learning_curve(estimator, title, X, y, ylim=None, cv=None,\n",
    "                        n_jobs=-1, train_sizes=np.linspace(.1, 1.0, 5)):\n",
    "    \"\"\"Generate a simple plot of the test and training learning curve\"\"\"\n",
    "    plt.figure()\n",
    "    plt.title(title) # título dos gráficos\n",
    "    \n",
    "    if ylim is not None:\n",
    "        plt.ylim(*ylim) # intervalo do eixo Y\n",
    "        \n",
    "    plt.xlabel(\"Training examples\")\n",
    "    plt.ylabel(\"Score\")\n",
    "    \n",
    "    train_sizes, train_scores, test_scores = learning_curve(\n",
    "        estimator, X, y, cv=cv, n_jobs=n_jobs, train_sizes=train_sizes)\n",
    "    \n",
    "    train_scores_mean = np.mean(train_scores, axis=1) # calcula a média dos scores de treino\n",
    "    train_scores_std = np.std(train_scores, axis=1) # calcula o desvio padrão dos scores de treino\n",
    "    test_scores_mean = np.mean(test_scores, axis=1) # calcula a média dos scores de teste\n",
    "    test_scores_std = np.std(test_scores, axis=1) # calcula o desvio padrão dos scores de teste\n",
    "    \n",
    "    plt.grid() # aplica linhas de grade no gráfico\n",
    "\n",
    "    plt.fill_between(train_sizes, train_scores_mean - train_scores_std,\n",
    "                     train_scores_mean + train_scores_std, alpha=0.1,\n",
    "                     color=\"r\")\n",
    "    \n",
    "    plt.fill_between(train_sizes, test_scores_mean - test_scores_std,\n",
    "                     test_scores_mean + test_scores_std, alpha=0.1, color=\"g\")\n",
    "    \n",
    "    plt.plot(train_sizes, train_scores_mean, 'o-', color=\"r\",\n",
    "             label=\"Training score\")\n",
    "    \n",
    "    plt.plot(train_sizes, test_scores_mean, 'o-', color=\"g\",\n",
    "             label=\"Cross-validation score\")\n",
    "\n",
    "    plt.legend(loc=\"best\")\n",
    "    \n",
    "    return plt"
   ]
  },
  {
   "cell_type": "code",
   "execution_count": 91,
   "metadata": {},
   "outputs": [
    {
     "name": "stderr",
     "output_type": "stream",
     "text": [
      "/home/igobarros/anaconda3/lib/python3.8/site-packages/joblib/externals/loky/process_executor.py:688: UserWarning: A worker stopped while some jobs were given to the executor. This can be caused by a too short worker timeout or by a memory leak.\n",
      "  warnings.warn(\n",
      "/home/igobarros/anaconda3/lib/python3.8/site-packages/joblib/externals/loky/process_executor.py:688: UserWarning: A worker stopped while some jobs were given to the executor. This can be caused by a too short worker timeout or by a memory leak.\n",
      "  warnings.warn(\n"
     ]
    },
    {
     "data": {
      "text/plain": [
       "<module 'matplotlib.pyplot' from '/home/igobarros/anaconda3/lib/python3.8/site-packages/matplotlib/pyplot.py'>"
      ]
     },
     "execution_count": 91,
     "metadata": {},
     "output_type": "execute_result"
    },
    {
     "data": {
      "image/png": "[encoded data removed]",
      "text/plain": [
       "<Figure size 720x360 with 1 Axes>"
      ]
     },
     "metadata": {},
     "output_type": "display_data"
    },
    {
     "data": {
      "image/png": "[encoded data removed]",
      "text/plain": [
       "<Figure size 720x360 with 1 Axes>"
      ]
     },
     "metadata": {},
     "output_type": "display_data"
    },
    {
     "data": {
      "image/png": "[encoded data removed]",
      "text/plain": [
       "<Figure size 720x360 with 1 Axes>"
      ]
     },
     "metadata": {},
     "output_type": "display_data"
    },
    {
     "data": {
      "image/png": "[encoded data removed]",
      "text/plain": [
       "<Figure size 720x360 with 1 Axes>"
      ]
     },
     "metadata": {},
     "output_type": "display_data"
    }
   ],
   "source": [
    "plot_learning_curve(tree_cv.best_estimator_, \"Decision Tree mearning curves\", X_train, y_train, cv=s_kfold)\n",
    "plot_learning_curve(ada_cv.best_estimator_, \"AdaBoost learning curves\", X_train, y_train, cv=s_kfold)\n",
    "plot_learning_curve(etrees_cv.best_estimator_, \"ExtraTrees learning curves\",X_train, y_train, cv=s_kfold)\n",
    "plot_learning_curve(rf_cv.best_estimator_, \"RandomForest learning curves\", X_train, y_train, cv=s_kfold)"
   ]
  },
  {
   "cell_type": "markdown",
   "metadata": {},
   "source": [
    "### 6.5 - Features Importances"
   ]
  },
  {
   "cell_type": "markdown",
   "metadata": {},
   "source": [
    "[...] Vamos começar com árvores de decisão para construir alguma intuição. Nas árvores de decisão, cada nó é uma condição de como dividir valores em um único recurso, de modo que valores semelhantes da variável dependente terminem no mesmo conjunto após a divisão. A condição é baseada na impureza, que no caso de problemas de classificação é impureza de Gini / ganho de informação (entropia), enquanto para árvores de regressão sua variância. Portanto, ao treinar uma árvore, podemos calcular o quanto cada recurso contribui para diminuir a impureza ponderada. feature_importances_no Scikit-Learn é baseado nessa lógica, mas no caso da Random Forest, estamos falando sobre a média da diminuição da impureza nas árvores. [...]\n",
    "\n",
    "Fonte: https://towardsdatascience.com/explaining-feature-importance-by-example-of-a-random-forest-d9166011959e"
   ]
  },
  {
   "cell_type": "code",
   "execution_count": 125,
   "metadata": {},
   "outputs": [],
   "source": [
    "import eli5\n",
    "\n",
    "def plot_features_importances(estimator, df):\n",
    "        return eli5.explain_weights(estimator.named_steps['cls'], top=100, feature_names=list(df.columns))"
   ]
  },
  {
   "cell_type": "code",
   "execution_count": 136,
   "metadata": {},
   "outputs": [
    {
     "data": {
      "text/html": [
       "\n",
       "    <style>\n",
       "    table.eli5-weights tr:hover {\n",
       "        filter: brightness(85%);\n",
       "    }\n",
       "</style>\n",
       "\n",
       "\n",
       "\n",
       "    \n",
       "\n",
       "    \n",
       "\n",
       "    \n",
       "\n",
       "    \n",
       "\n",
       "    \n",
       "\n",
       "    \n",
       "\n",
       "\n",
       "    \n",
       "\n",
       "    \n",
       "\n",
       "    \n",
       "\n",
       "    \n",
       "\n",
       "    \n",
       "\n",
       "    \n",
       "\n",
       "\n",
       "    \n",
       "\n",
       "    \n",
       "\n",
       "    \n",
       "\n",
       "    \n",
       "\n",
       "    \n",
       "        <table class=\"eli5-weights eli5-feature-importances\" style=\"border-collapse: collapse; border: none; margin-top: 0em; table-layout: auto;\">\n",
       "    <thead>\n",
       "    <tr style=\"border: none;\">\n",
       "        <th style=\"padding: 0 1em 0 0.5em; text-align: right; border: none;\">Weight</th>\n",
       "        <th style=\"padding: 0 0.5em 0 0.5em; text-align: left; border: none;\">Feature</th>\n",
       "    </tr>\n",
       "    </thead>\n",
       "    <tbody>\n",
       "    \n",
       "        <tr style=\"background-color: hsl(120, 100.00%, 80.00%); border: none;\">\n",
       "            <td style=\"padding: 0 1em 0 0.5em; text-align: right; border: none;\">\n",
       "                0.4851\n",
       "                \n",
       "                    &plusmn; 0.9997\n",
       "                \n",
       "            </td>\n",
       "            <td style=\"padding: 0 0.5em 0 0.5em; text-align: left; border: none;\">\n",
       "                TP_RESULTA_PUNCAO_ASPIRATIVA\n",
       "            </td>\n",
       "        </tr>\n",
       "    \n",
       "        <tr style=\"background-color: hsl(120, 100.00%, 86.81%); border: none;\">\n",
       "            <td style=\"padding: 0 1em 0 0.5em; text-align: right; border: none;\">\n",
       "                0.2675\n",
       "                \n",
       "                    &plusmn; 0.8869\n",
       "                \n",
       "            </td>\n",
       "            <td style=\"padding: 0 0.5em 0 0.5em; text-align: left; border: none;\">\n",
       "                TP_ADEQUABILIDAD_MATERIAL\n",
       "            </td>\n",
       "        </tr>\n",
       "    \n",
       "        <tr style=\"background-color: hsl(120, 100.00%, 90.19%); border: none;\">\n",
       "            <td style=\"padding: 0 1em 0 0.5em; text-align: right; border: none;\">\n",
       "                0.1753\n",
       "                \n",
       "                    &plusmn; 0.7750\n",
       "                \n",
       "            </td>\n",
       "            <td style=\"padding: 0 0.5em 0 0.5em; text-align: left; border: none;\">\n",
       "                CO_MUN_RESIDENCIA\n",
       "            </td>\n",
       "        </tr>\n",
       "    \n",
       "        <tr style=\"background-color: hsl(120, 100.00%, 97.55%); border: none;\">\n",
       "            <td style=\"padding: 0 1em 0 0.5em; text-align: right; border: none;\">\n",
       "                0.0242\n",
       "                \n",
       "                    &plusmn; 0.2730\n",
       "                \n",
       "            </td>\n",
       "            <td style=\"padding: 0 0.5em 0 0.5em; text-align: left; border: none;\">\n",
       "                TP_PROC_BENI_NEGA_MALI_COMPATI\n",
       "            </td>\n",
       "        </tr>\n",
       "    \n",
       "        <tr style=\"background-color: hsl(120, 100.00%, 98.75%); border: none;\">\n",
       "            <td style=\"padding: 0 1em 0 0.5em; text-align: right; border: none;\">\n",
       "                0.0093\n",
       "                \n",
       "                    &plusmn; 0.1782\n",
       "                \n",
       "            </td>\n",
       "            <td style=\"padding: 0 0.5em 0 0.5em; text-align: left; border: none;\">\n",
       "                CO_RISCO_ELEVADO\n",
       "            </td>\n",
       "        </tr>\n",
       "    \n",
       "        <tr style=\"background-color: hsl(120, 100.00%, 98.95%); border: none;\">\n",
       "            <td style=\"padding: 0 1em 0 0.5em; text-align: right; border: none;\">\n",
       "                0.0072\n",
       "                \n",
       "                    &plusmn; 0.1545\n",
       "                \n",
       "            </td>\n",
       "            <td style=\"padding: 0 0.5em 0 0.5em; text-align: left; border: none;\">\n",
       "                TP_LATERALIDADE_MAMA\n",
       "            </td>\n",
       "        </tr>\n",
       "    \n",
       "        <tr style=\"background-color: hsl(120, 100.00%, 99.00%); border: none;\">\n",
       "            <td style=\"padding: 0 1em 0 0.5em; text-align: right; border: none;\">\n",
       "                0.0067\n",
       "                \n",
       "                    &plusmn; 0.1545\n",
       "                \n",
       "            </td>\n",
       "            <td style=\"padding: 0 0.5em 0 0.5em; text-align: left; border: none;\">\n",
       "                CO_RACA_COR\n",
       "            </td>\n",
       "        </tr>\n",
       "    \n",
       "        <tr style=\"background-color: hsl(120, 100.00%, 99.02%); border: none;\">\n",
       "            <td style=\"padding: 0 1em 0 0.5em; text-align: right; border: none;\">\n",
       "                0.0065\n",
       "                \n",
       "                    &plusmn; 0.1411\n",
       "                \n",
       "            </td>\n",
       "            <td style=\"padding: 0 0.5em 0 0.5em; text-align: left; border: none;\">\n",
       "                CO_TEM_NODULO\n",
       "            </td>\n",
       "        </tr>\n",
       "    \n",
       "        <tr style=\"background-color: hsl(120, 100.00%, 99.04%); border: none;\">\n",
       "            <td style=\"padding: 0 1em 0 0.5em; text-align: right; border: none;\">\n",
       "                0.0064\n",
       "                \n",
       "                    &plusmn; 0.1411\n",
       "                \n",
       "            </td>\n",
       "            <td style=\"padding: 0 0.5em 0 0.5em; text-align: left; border: none;\">\n",
       "                TP_NODULO\n",
       "            </td>\n",
       "        </tr>\n",
       "    \n",
       "        <tr style=\"background-color: hsl(120, 100.00%, 99.17%); border: none;\">\n",
       "            <td style=\"padding: 0 1em 0 0.5em; text-align: right; border: none;\">\n",
       "                0.0052\n",
       "                \n",
       "                    &plusmn; 0.1262\n",
       "                \n",
       "            </td>\n",
       "            <td style=\"padding: 0 0.5em 0 0.5em; text-align: left; border: none;\">\n",
       "                CO_FAIXA_ETARIA_PACIENTE\n",
       "            </td>\n",
       "        </tr>\n",
       "    \n",
       "        <tr style=\"background-color: hsl(120, 100.00%, 99.53%); border: none;\">\n",
       "            <td style=\"padding: 0 1em 0 0.5em; text-align: right; border: none;\">\n",
       "                0.0023\n",
       "                \n",
       "                    &plusmn; 0.0894\n",
       "                \n",
       "            </td>\n",
       "            <td style=\"padding: 0 0.5em 0 0.5em; text-align: left; border: none;\">\n",
       "                CO_INTERVALO_EXAME\n",
       "            </td>\n",
       "        </tr>\n",
       "    \n",
       "        <tr style=\"background-color: hsl(120, 100.00%, 99.54%); border: none;\">\n",
       "            <td style=\"padding: 0 1em 0 0.5em; text-align: right; border: none;\">\n",
       "                0.0022\n",
       "                \n",
       "                    &plusmn; 0.0894\n",
       "                \n",
       "            </td>\n",
       "            <td style=\"padding: 0 0.5em 0 0.5em; text-align: left; border: none;\">\n",
       "                CO_PACIENTE\n",
       "            </td>\n",
       "        </tr>\n",
       "    \n",
       "        <tr style=\"background-color: hsl(120, 100.00%, 99.72%); border: none;\">\n",
       "            <td style=\"padding: 0 1em 0 0.5em; text-align: right; border: none;\">\n",
       "                0.0011\n",
       "                \n",
       "                    &plusmn; 0.0632\n",
       "                \n",
       "            </td>\n",
       "            <td style=\"padding: 0 0.5em 0 0.5em; text-align: left; border: none;\">\n",
       "                CO_UF_RESIDENCIA\n",
       "            </td>\n",
       "        </tr>\n",
       "    \n",
       "        <tr style=\"background-color: hsl(120, 100.00%, 99.72%); border: none;\">\n",
       "            <td style=\"padding: 0 1em 0 0.5em; text-align: right; border: none;\">\n",
       "                0.0011\n",
       "                \n",
       "                    &plusmn; 0.0632\n",
       "                \n",
       "            </td>\n",
       "            <td style=\"padding: 0 0.5em 0 0.5em; text-align: left; border: none;\">\n",
       "                CO_INTERVALO_COLETA\n",
       "            </td>\n",
       "        </tr>\n",
       "    \n",
       "        <tr style=\"background-color: hsl(0, 100.00%, 100.00%); border: none;\">\n",
       "            <td style=\"padding: 0 1em 0 0.5em; text-align: right; border: none;\">\n",
       "                0\n",
       "                \n",
       "                    &plusmn; 0.0000\n",
       "                \n",
       "            </td>\n",
       "            <td style=\"padding: 0 0.5em 0 0.5em; text-align: left; border: none;\">\n",
       "                CO_ANO_RESULTADO\n",
       "            </td>\n",
       "        </tr>\n",
       "    \n",
       "        <tr style=\"background-color: hsl(0, 100.00%, 100.00%); border: none;\">\n",
       "            <td style=\"padding: 0 1em 0 0.5em; text-align: right; border: none;\">\n",
       "                0\n",
       "                \n",
       "                    &plusmn; 0.0000\n",
       "                \n",
       "            </td>\n",
       "            <td style=\"padding: 0 0.5em 0 0.5em; text-align: left; border: none;\">\n",
       "                NU_ANO_COMPETENCIA\n",
       "            </td>\n",
       "        </tr>\n",
       "    \n",
       "        <tr style=\"background-color: hsl(0, 100.00%, 100.00%); border: none;\">\n",
       "            <td style=\"padding: 0 1em 0 0.5em; text-align: right; border: none;\">\n",
       "                0\n",
       "                \n",
       "                    &plusmn; 0.0000\n",
       "                \n",
       "            </td>\n",
       "            <td style=\"padding: 0 0.5em 0 0.5em; text-align: left; border: none;\">\n",
       "                CO_TEMPO_EXAME\n",
       "            </td>\n",
       "        </tr>\n",
       "    \n",
       "        <tr style=\"background-color: hsl(0, 100.00%, 100.00%); border: none;\">\n",
       "            <td style=\"padding: 0 1em 0 0.5em; text-align: right; border: none;\">\n",
       "                0\n",
       "                \n",
       "                    &plusmn; 0.0000\n",
       "                \n",
       "            </td>\n",
       "            <td style=\"padding: 0 0.5em 0 0.5em; text-align: left; border: none;\">\n",
       "                NU_ANO_MES_COMPETENCIA\n",
       "            </td>\n",
       "        </tr>\n",
       "    \n",
       "        <tr style=\"background-color: hsl(0, 100.00%, 100.00%); border: none;\">\n",
       "            <td style=\"padding: 0 1em 0 0.5em; text-align: right; border: none;\">\n",
       "                0\n",
       "                \n",
       "                    &plusmn; 0.0000\n",
       "                \n",
       "            </td>\n",
       "            <td style=\"padding: 0 0.5em 0 0.5em; text-align: left; border: none;\">\n",
       "                SG_SEXO\n",
       "            </td>\n",
       "        </tr>\n",
       "    \n",
       "        <tr style=\"background-color: hsl(0, 100.00%, 100.00%); border: none;\">\n",
       "            <td style=\"padding: 0 1em 0 0.5em; text-align: right; border: none;\">\n",
       "                0\n",
       "                \n",
       "                    &plusmn; 0.0000\n",
       "                \n",
       "            </td>\n",
       "            <td style=\"padding: 0 0.5em 0 0.5em; text-align: left; border: none;\">\n",
       "                TP_MATERIAL\n",
       "            </td>\n",
       "        </tr>\n",
       "    \n",
       "        <tr style=\"background-color: hsl(0, 100.00%, 100.00%); border: none;\">\n",
       "            <td style=\"padding: 0 1em 0 0.5em; text-align: right; border: none;\">\n",
       "                0\n",
       "                \n",
       "                    &plusmn; 0.0000\n",
       "                \n",
       "            </td>\n",
       "            <td style=\"padding: 0 0.5em 0 0.5em; text-align: left; border: none;\">\n",
       "                CO_SEQ_SISCAN_CITO_MAMA_PACNT\n",
       "            </td>\n",
       "        </tr>\n",
       "    \n",
       "    \n",
       "    </tbody>\n",
       "</table>\n",
       "    \n",
       "\n",
       "    \n",
       "\n",
       "\n",
       "    \n",
       "\n",
       "    \n",
       "\n",
       "    \n",
       "\n",
       "    \n",
       "\n",
       "    \n",
       "\n",
       "    \n",
       "\n",
       "\n",
       "\n"
      ],
      "text/plain": [
       "Explanation(estimator=\"AdaBoostClassifier(algorithm='SAMME', learning_rate=0.5, n_estimators=1000)\", description='\\nRandom forest feature importances; values are numbers 0 <= x <= 1;\\nall values sum to 1.\\n', error=None, method='feature importances', is_regression=False, targets=None, feature_importances=FeatureImportances(importances=[FeatureWeight(feature='TP_RESULTA_PUNCAO_ASPIRATIVA', weight=0.4850700769937278, std=0.49985597925803, value=None), FeatureWeight(feature='TP_ADEQUABILIDAD_MATERIAL', weight=0.2675470742207143, std=0.44343996211437675, value=None), FeatureWeight(feature='CO_MUN_RESIDENCIA', weight=0.17526692286006676, std=0.38748419322599337, value=None), FeatureWeight(feature='TP_PROC_BENI_NEGA_MALI_COMPATI', weight=0.02419106933512589, std=0.13652472303579777, value=None), FeatureWeight(feature='CO_RISCO_ELEVADO', weight=0.00927187569504462, std=0.08908422980528063, value=None), FeatureWeight(feature='TP_LATERALIDADE_MAMA', weight=0.00721122925537444, std=0.07722693830522985, value=None), FeatureWeight(feature='CO_RACA_COR', weight=0.006704985251734752, std=0.07722693830522993, value=None), FeatureWeight(feature='CO_TEM_NODULO', weight=0.006503137045969057, std=0.0705336798983291, value=None), FeatureWeight(feature='TP_NODULO', weight=0.006363862117281647, std=0.07053367989832908, value=None), FeatureWeight(feature='CO_FAIXA_ETARIA_PACIENTE', weight=0.005169832910275939, std=0.06311893535223811, value=None), FeatureWeight(feature='CO_INTERVALO_EXAME', weight=0.002307480503254117, std=0.04467661580737641, value=None), FeatureWeight(feature='CO_PACIENTE', weight=0.002213175647090574, std=0.04467661580737647, value=None), FeatureWeight(feature='CO_UF_RESIDENCIA', weight=0.0011139355224508644, std=0.03160696125855861, value=None), FeatureWeight(feature='CO_INTERVALO_COLETA', weight=0.0010653426418929526, std=0.031606961258558566, value=None), FeatureWeight(feature='CO_ANO_RESULTADO', weight=0.0, std=0.0, value=None), FeatureWeight(feature='NU_ANO_COMPETENCIA', weight=0.0, std=0.0, value=None), FeatureWeight(feature='CO_TEMPO_EXAME', weight=0.0, std=0.0, value=None), FeatureWeight(feature='NU_ANO_MES_COMPETENCIA', weight=0.0, std=0.0, value=None), FeatureWeight(feature='SG_SEXO', weight=0.0, std=0.0, value=None), FeatureWeight(feature='TP_MATERIAL', weight=0.0, std=0.0, value=None), FeatureWeight(feature='CO_SEQ_SISCAN_CITO_MAMA_PACNT', weight=0.0, std=0.0, value=None)], remaining=0), decision_tree=None, highlight_spaces=None, transition_features=None, image=None)"
      ]
     },
     "execution_count": 136,
     "metadata": {},
     "output_type": "execute_result"
    }
   ],
   "source": [
    "plot_features_importances(ada_cv.best_estimator_, X)"
   ]
  },
  {
   "cell_type": "code",
   "execution_count": 155,
   "metadata": {},
   "outputs": [
    {
     "data": {
      "text/html": [
       "\n",
       "    <style>\n",
       "    table.eli5-weights tr:hover {\n",
       "        filter: brightness(85%);\n",
       "    }\n",
       "</style>\n",
       "\n",
       "\n",
       "\n",
       "    \n",
       "\n",
       "    \n",
       "\n",
       "    \n",
       "\n",
       "    \n",
       "\n",
       "    \n",
       "\n",
       "    \n",
       "\n",
       "\n",
       "    \n",
       "\n",
       "    \n",
       "\n",
       "    \n",
       "\n",
       "    \n",
       "\n",
       "    \n",
       "\n",
       "    \n",
       "\n",
       "\n",
       "    \n",
       "\n",
       "    \n",
       "\n",
       "    \n",
       "\n",
       "    \n",
       "\n",
       "    \n",
       "        <table class=\"eli5-weights eli5-feature-importances\" style=\"border-collapse: collapse; border: none; margin-top: 0em; table-layout: auto;\">\n",
       "    <thead>\n",
       "    <tr style=\"border: none;\">\n",
       "        <th style=\"padding: 0 1em 0 0.5em; text-align: right; border: none;\">Weight</th>\n",
       "        <th style=\"padding: 0 0.5em 0 0.5em; text-align: left; border: none;\">Feature</th>\n",
       "    </tr>\n",
       "    </thead>\n",
       "    <tbody>\n",
       "    \n",
       "        <tr style=\"background-color: hsl(120, 100.00%, 80.00%); border: none;\">\n",
       "            <td style=\"padding: 0 1em 0 0.5em; text-align: right; border: none;\">\n",
       "                0.3854\n",
       "                \n",
       "                    &plusmn; 0.1731\n",
       "                \n",
       "            </td>\n",
       "            <td style=\"padding: 0 0.5em 0 0.5em; text-align: left; border: none;\">\n",
       "                TP_RESULTA_PUNCAO_ASPIRATIVA\n",
       "            </td>\n",
       "        </tr>\n",
       "    \n",
       "        <tr style=\"background-color: hsl(120, 100.00%, 88.94%); border: none;\">\n",
       "            <td style=\"padding: 0 1em 0 0.5em; text-align: right; border: none;\">\n",
       "                0.1653\n",
       "                \n",
       "                    &plusmn; 0.0873\n",
       "                \n",
       "            </td>\n",
       "            <td style=\"padding: 0 0.5em 0 0.5em; text-align: left; border: none;\">\n",
       "                TP_ADEQUABILIDAD_MATERIAL\n",
       "            </td>\n",
       "        </tr>\n",
       "    \n",
       "        <tr style=\"background-color: hsl(120, 100.00%, 89.69%); border: none;\">\n",
       "            <td style=\"padding: 0 1em 0 0.5em; text-align: right; border: none;\">\n",
       "                0.1495\n",
       "                \n",
       "                    &plusmn; 0.0978\n",
       "                \n",
       "            </td>\n",
       "            <td style=\"padding: 0 0.5em 0 0.5em; text-align: left; border: none;\">\n",
       "                TP_PROC_BENI_NEGA_MALI_COMPATI\n",
       "            </td>\n",
       "        </tr>\n",
       "    \n",
       "        <tr style=\"background-color: hsl(120, 100.00%, 93.76%); border: none;\">\n",
       "            <td style=\"padding: 0 1em 0 0.5em; text-align: right; border: none;\">\n",
       "                0.0730\n",
       "                \n",
       "                    &plusmn; 0.0790\n",
       "                \n",
       "            </td>\n",
       "            <td style=\"padding: 0 0.5em 0 0.5em; text-align: left; border: none;\">\n",
       "                TP_MATERIAL\n",
       "            </td>\n",
       "        </tr>\n",
       "    \n",
       "        <tr style=\"background-color: hsl(120, 100.00%, 95.84%); border: none;\">\n",
       "            <td style=\"padding: 0 1em 0 0.5em; text-align: right; border: none;\">\n",
       "                0.0408\n",
       "                \n",
       "                    &plusmn; 0.0475\n",
       "                \n",
       "            </td>\n",
       "            <td style=\"padding: 0 0.5em 0 0.5em; text-align: left; border: none;\">\n",
       "                TP_NODULO\n",
       "            </td>\n",
       "        </tr>\n",
       "    \n",
       "        <tr style=\"background-color: hsl(120, 100.00%, 97.41%); border: none;\">\n",
       "            <td style=\"padding: 0 1em 0 0.5em; text-align: right; border: none;\">\n",
       "                0.0207\n",
       "                \n",
       "                    &plusmn; 0.0170\n",
       "                \n",
       "            </td>\n",
       "            <td style=\"padding: 0 0.5em 0 0.5em; text-align: left; border: none;\">\n",
       "                CO_MUN_RESIDENCIA\n",
       "            </td>\n",
       "        </tr>\n",
       "    \n",
       "        <tr style=\"background-color: hsl(120, 100.00%, 97.49%); border: none;\">\n",
       "            <td style=\"padding: 0 1em 0 0.5em; text-align: right; border: none;\">\n",
       "                0.0199\n",
       "                \n",
       "                    &plusmn; 0.0173\n",
       "                \n",
       "            </td>\n",
       "            <td style=\"padding: 0 0.5em 0 0.5em; text-align: left; border: none;\">\n",
       "                CO_UF_RESIDENCIA\n",
       "            </td>\n",
       "        </tr>\n",
       "    \n",
       "        <tr style=\"background-color: hsl(120, 100.00%, 97.64%); border: none;\">\n",
       "            <td style=\"padding: 0 1em 0 0.5em; text-align: right; border: none;\">\n",
       "                0.0182\n",
       "                \n",
       "                    &plusmn; 0.0120\n",
       "                \n",
       "            </td>\n",
       "            <td style=\"padding: 0 0.5em 0 0.5em; text-align: left; border: none;\">\n",
       "                CO_FAIXA_ETARIA_PACIENTE\n",
       "            </td>\n",
       "        </tr>\n",
       "    \n",
       "        <tr style=\"background-color: hsl(120, 100.00%, 97.88%); border: none;\">\n",
       "            <td style=\"padding: 0 1em 0 0.5em; text-align: right; border: none;\">\n",
       "                0.0156\n",
       "                \n",
       "                    &plusmn; 0.0167\n",
       "                \n",
       "            </td>\n",
       "            <td style=\"padding: 0 0.5em 0 0.5em; text-align: left; border: none;\">\n",
       "                CO_TEM_NODULO\n",
       "            </td>\n",
       "        </tr>\n",
       "    \n",
       "        <tr style=\"background-color: hsl(120, 100.00%, 97.96%); border: none;\">\n",
       "            <td style=\"padding: 0 1em 0 0.5em; text-align: right; border: none;\">\n",
       "                0.0148\n",
       "                \n",
       "                    &plusmn; 0.0078\n",
       "                \n",
       "            </td>\n",
       "            <td style=\"padding: 0 0.5em 0 0.5em; text-align: left; border: none;\">\n",
       "                NU_ANO_MES_COMPETENCIA\n",
       "            </td>\n",
       "        </tr>\n",
       "    \n",
       "        <tr style=\"background-color: hsl(120, 100.00%, 98.12%); border: none;\">\n",
       "            <td style=\"padding: 0 1em 0 0.5em; text-align: right; border: none;\">\n",
       "                0.0131\n",
       "                \n",
       "                    &plusmn; 0.0068\n",
       "                \n",
       "            </td>\n",
       "            <td style=\"padding: 0 0.5em 0 0.5em; text-align: left; border: none;\">\n",
       "                CO_INTERVALO_EXAME\n",
       "            </td>\n",
       "        </tr>\n",
       "    \n",
       "        <tr style=\"background-color: hsl(120, 100.00%, 98.18%); border: none;\">\n",
       "            <td style=\"padding: 0 1em 0 0.5em; text-align: right; border: none;\">\n",
       "                0.0126\n",
       "                \n",
       "                    &plusmn; 0.0078\n",
       "                \n",
       "            </td>\n",
       "            <td style=\"padding: 0 0.5em 0 0.5em; text-align: left; border: none;\">\n",
       "                CO_RISCO_ELEVADO\n",
       "            </td>\n",
       "        </tr>\n",
       "    \n",
       "        <tr style=\"background-color: hsl(120, 100.00%, 98.33%); border: none;\">\n",
       "            <td style=\"padding: 0 1em 0 0.5em; text-align: right; border: none;\">\n",
       "                0.0111\n",
       "                \n",
       "                    &plusmn; 0.0052\n",
       "                \n",
       "            </td>\n",
       "            <td style=\"padding: 0 0.5em 0 0.5em; text-align: left; border: none;\">\n",
       "                CO_SEQ_SISCAN_CITO_MAMA_PACNT\n",
       "            </td>\n",
       "        </tr>\n",
       "    \n",
       "        <tr style=\"background-color: hsl(120, 100.00%, 98.36%); border: none;\">\n",
       "            <td style=\"padding: 0 1em 0 0.5em; text-align: right; border: none;\">\n",
       "                0.0108\n",
       "                \n",
       "                    &plusmn; 0.0096\n",
       "                \n",
       "            </td>\n",
       "            <td style=\"padding: 0 0.5em 0 0.5em; text-align: left; border: none;\">\n",
       "                CO_RACA_COR\n",
       "            </td>\n",
       "        </tr>\n",
       "    \n",
       "        <tr style=\"background-color: hsl(120, 100.00%, 98.37%); border: none;\">\n",
       "            <td style=\"padding: 0 1em 0 0.5em; text-align: right; border: none;\">\n",
       "                0.0108\n",
       "                \n",
       "                    &plusmn; 0.0042\n",
       "                \n",
       "            </td>\n",
       "            <td style=\"padding: 0 0.5em 0 0.5em; text-align: left; border: none;\">\n",
       "                CO_PACIENTE\n",
       "            </td>\n",
       "        </tr>\n",
       "    \n",
       "        <tr style=\"background-color: hsl(120, 100.00%, 98.37%); border: none;\">\n",
       "            <td style=\"padding: 0 1em 0 0.5em; text-align: right; border: none;\">\n",
       "                0.0107\n",
       "                \n",
       "                    &plusmn; 0.0059\n",
       "                \n",
       "            </td>\n",
       "            <td style=\"padding: 0 0.5em 0 0.5em; text-align: left; border: none;\">\n",
       "                CO_ANO_RESULTADO\n",
       "            </td>\n",
       "        </tr>\n",
       "    \n",
       "        <tr style=\"background-color: hsl(120, 100.00%, 98.41%); border: none;\">\n",
       "            <td style=\"padding: 0 1em 0 0.5em; text-align: right; border: none;\">\n",
       "                0.0103\n",
       "                \n",
       "                    &plusmn; 0.0056\n",
       "                \n",
       "            </td>\n",
       "            <td style=\"padding: 0 0.5em 0 0.5em; text-align: left; border: none;\">\n",
       "                NU_ANO_COMPETENCIA\n",
       "            </td>\n",
       "        </tr>\n",
       "    \n",
       "        <tr style=\"background-color: hsl(120, 100.00%, 98.59%); border: none;\">\n",
       "            <td style=\"padding: 0 1em 0 0.5em; text-align: right; border: none;\">\n",
       "                0.0087\n",
       "                \n",
       "                    &plusmn; 0.0114\n",
       "                \n",
       "            </td>\n",
       "            <td style=\"padding: 0 0.5em 0 0.5em; text-align: left; border: none;\">\n",
       "                CO_INTERVALO_COLETA\n",
       "            </td>\n",
       "        </tr>\n",
       "    \n",
       "        <tr style=\"background-color: hsl(120, 100.00%, 98.79%); border: none;\">\n",
       "            <td style=\"padding: 0 1em 0 0.5em; text-align: right; border: none;\">\n",
       "                0.0070\n",
       "                \n",
       "                    &plusmn; 0.0032\n",
       "                \n",
       "            </td>\n",
       "            <td style=\"padding: 0 0.5em 0 0.5em; text-align: left; border: none;\">\n",
       "                TP_LATERALIDADE_MAMA\n",
       "            </td>\n",
       "        </tr>\n",
       "    \n",
       "        <tr style=\"background-color: hsl(120, 100.00%, 99.67%); border: none;\">\n",
       "            <td style=\"padding: 0 1em 0 0.5em; text-align: right; border: none;\">\n",
       "                0.0011\n",
       "                \n",
       "                    &plusmn; 0.0011\n",
       "                \n",
       "            </td>\n",
       "            <td style=\"padding: 0 0.5em 0 0.5em; text-align: left; border: none;\">\n",
       "                CO_TEMPO_EXAME\n",
       "            </td>\n",
       "        </tr>\n",
       "    \n",
       "        <tr style=\"background-color: hsl(120, 100.00%, 99.80%); border: none;\">\n",
       "            <td style=\"padding: 0 1em 0 0.5em; text-align: right; border: none;\">\n",
       "                0.0006\n",
       "                \n",
       "                    &plusmn; 0.0009\n",
       "                \n",
       "            </td>\n",
       "            <td style=\"padding: 0 0.5em 0 0.5em; text-align: left; border: none;\">\n",
       "                SG_SEXO\n",
       "            </td>\n",
       "        </tr>\n",
       "    \n",
       "    \n",
       "    </tbody>\n",
       "</table>\n",
       "    \n",
       "\n",
       "    \n",
       "\n",
       "\n",
       "    \n",
       "\n",
       "    \n",
       "\n",
       "    \n",
       "\n",
       "    \n",
       "\n",
       "    \n",
       "\n",
       "    \n",
       "\n",
       "\n",
       "\n"
      ],
      "text/plain": [
       "Explanation(estimator=\"RandomForestClassifier(bootstrap=False, max_depth=40, max_features='log2',\\n                       min_samples_split=5, n_estimators=800)\", description='\\nRandom forest feature importances; values are numbers 0 <= x <= 1;\\nall values sum to 1.\\n', error=None, method='feature importances', is_regression=False, targets=None, feature_importances=FeatureImportances(importances=[FeatureWeight(feature='TP_RESULTA_PUNCAO_ASPIRATIVA', weight=0.3854110080304243, std=0.08653354816131158, value=None), FeatureWeight(feature='TP_ADEQUABILIDAD_MATERIAL', weight=0.16526371233709564, std=0.043627687847810355, value=None), FeatureWeight(feature='TP_PROC_BENI_NEGA_MALI_COMPATI', weight=0.1495266547216817, std=0.04888516535844638, value=None), FeatureWeight(feature='TP_MATERIAL', weight=0.07296959276975373, std=0.03949290383814646, value=None), FeatureWeight(feature='TP_NODULO', weight=0.04084210624024253, std=0.023774548215804246, value=None), FeatureWeight(feature='CO_MUN_RESIDENCIA', weight=0.020728717134294635, std=0.008486656197599156, value=None), FeatureWeight(feature='CO_UF_RESIDENCIA', weight=0.01989488319015725, std=0.008625067531206017, value=None), FeatureWeight(feature='CO_FAIXA_ETARIA_PACIENTE', weight=0.018199731495865443, std=0.005996422312170976, value=None), FeatureWeight(feature='CO_TEM_NODULO', weight=0.015576794996511477, std=0.008325699978111537, value=None), FeatureWeight(feature='NU_ANO_MES_COMPETENCIA', weight=0.014807977614555072, std=0.003913041585347568, value=None), FeatureWeight(feature='CO_INTERVALO_EXAME', weight=0.013103118870983125, std=0.0033805645480624452, value=None), FeatureWeight(feature='CO_RISCO_ELEVADO', weight=0.012599329392681066, std=0.003899143466065105, value=None), FeatureWeight(feature='CO_SEQ_SISCAN_CITO_MAMA_PACNT', weight=0.011091153760010568, std=0.0025984221806077995, value=None), FeatureWeight(feature='CO_RACA_COR', weight=0.010834250379092213, std=0.004797448004358923, value=None), FeatureWeight(feature='CO_PACIENTE', weight=0.010758775144179372, std=0.0020863522715654347, value=None), FeatureWeight(feature='CO_ANO_RESULTADO', weight=0.010738433971062576, std=0.0029420458332153287, value=None), FeatureWeight(feature='NU_ANO_COMPETENCIA', weight=0.010325394473724917, std=0.002803449572923672, value=None), FeatureWeight(feature='CO_INTERVALO_COLETA', weight=0.008703225526312208, std=0.005698326967799048, value=None), FeatureWeight(feature='TP_LATERALIDADE_MAMA', weight=0.006998196352242664, std=0.0015938252594111897, value=None), FeatureWeight(feature='CO_TEMPO_EXAME', weight=0.0010734369546200157, std=0.0005445839852678254, value=None), FeatureWeight(feature='SG_SEXO', weight=0.0005535066445095052, std=0.0004350344762550631, value=None)], remaining=0), decision_tree=None, highlight_spaces=None, transition_features=None, image=None)"
      ]
     },
     "execution_count": 155,
     "metadata": {},
     "output_type": "execute_result"
    }
   ],
   "source": [
    "plot_features_importances(rf_cv.best_estimator_, X)"
   ]
  },
  {
   "cell_type": "code",
   "execution_count": 156,
   "metadata": {},
   "outputs": [
    {
     "data": {
      "text/html": [
       "\n",
       "    <style>\n",
       "    table.eli5-weights tr:hover {\n",
       "        filter: brightness(85%);\n",
       "    }\n",
       "</style>\n",
       "\n",
       "\n",
       "\n",
       "    \n",
       "\n",
       "    \n",
       "\n",
       "    \n",
       "\n",
       "    \n",
       "\n",
       "    \n",
       "\n",
       "    \n",
       "\n",
       "\n",
       "    \n",
       "\n",
       "    \n",
       "\n",
       "    \n",
       "\n",
       "    \n",
       "\n",
       "    \n",
       "\n",
       "    \n",
       "\n",
       "\n",
       "    \n",
       "\n",
       "    \n",
       "\n",
       "    \n",
       "\n",
       "    \n",
       "\n",
       "    \n",
       "        <table class=\"eli5-weights eli5-feature-importances\" style=\"border-collapse: collapse; border: none; margin-top: 0em; table-layout: auto;\">\n",
       "    <thead>\n",
       "    <tr style=\"border: none;\">\n",
       "        <th style=\"padding: 0 1em 0 0.5em; text-align: right; border: none;\">Weight</th>\n",
       "        <th style=\"padding: 0 0.5em 0 0.5em; text-align: left; border: none;\">Feature</th>\n",
       "    </tr>\n",
       "    </thead>\n",
       "    <tbody>\n",
       "    \n",
       "        <tr style=\"background-color: hsl(120, 100.00%, 80.00%); border: none;\">\n",
       "            <td style=\"padding: 0 1em 0 0.5em; text-align: right; border: none;\">\n",
       "                0.3929\n",
       "                \n",
       "                    &plusmn; 0.1738\n",
       "                \n",
       "            </td>\n",
       "            <td style=\"padding: 0 0.5em 0 0.5em; text-align: left; border: none;\">\n",
       "                TP_RESULTA_PUNCAO_ASPIRATIVA\n",
       "            </td>\n",
       "        </tr>\n",
       "    \n",
       "        <tr style=\"background-color: hsl(120, 100.00%, 88.90%); border: none;\">\n",
       "            <td style=\"padding: 0 1em 0 0.5em; text-align: right; border: none;\">\n",
       "                0.1693\n",
       "                \n",
       "                    &plusmn; 0.0901\n",
       "                \n",
       "            </td>\n",
       "            <td style=\"padding: 0 0.5em 0 0.5em; text-align: left; border: none;\">\n",
       "                TP_ADEQUABILIDAD_MATERIAL\n",
       "            </td>\n",
       "        </tr>\n",
       "    \n",
       "        <tr style=\"background-color: hsl(120, 100.00%, 89.69%); border: none;\">\n",
       "            <td style=\"padding: 0 1em 0 0.5em; text-align: right; border: none;\">\n",
       "                0.1524\n",
       "                \n",
       "                    &plusmn; 0.0979\n",
       "                \n",
       "            </td>\n",
       "            <td style=\"padding: 0 0.5em 0 0.5em; text-align: left; border: none;\">\n",
       "                TP_PROC_BENI_NEGA_MALI_COMPATI\n",
       "            </td>\n",
       "        </tr>\n",
       "    \n",
       "        <tr style=\"background-color: hsl(120, 100.00%, 94.61%); border: none;\">\n",
       "            <td style=\"padding: 0 1em 0 0.5em; text-align: right; border: none;\">\n",
       "                0.0603\n",
       "                \n",
       "                    &plusmn; 0.0852\n",
       "                \n",
       "            </td>\n",
       "            <td style=\"padding: 0 0.5em 0 0.5em; text-align: left; border: none;\">\n",
       "                TP_MATERIAL\n",
       "            </td>\n",
       "        </tr>\n",
       "    \n",
       "        <tr style=\"background-color: hsl(120, 100.00%, 96.41%); border: none;\">\n",
       "            <td style=\"padding: 0 1em 0 0.5em; text-align: right; border: none;\">\n",
       "                0.0338\n",
       "                \n",
       "                    &plusmn; 0.0428\n",
       "                \n",
       "            </td>\n",
       "            <td style=\"padding: 0 0.5em 0 0.5em; text-align: left; border: none;\">\n",
       "                TP_NODULO\n",
       "            </td>\n",
       "        </tr>\n",
       "    \n",
       "        <tr style=\"background-color: hsl(120, 100.00%, 97.70%); border: none;\">\n",
       "            <td style=\"padding: 0 1em 0 0.5em; text-align: right; border: none;\">\n",
       "                0.0179\n",
       "                \n",
       "                    &plusmn; 0.0103\n",
       "                \n",
       "            </td>\n",
       "            <td style=\"padding: 0 0.5em 0 0.5em; text-align: left; border: none;\">\n",
       "                CO_FAIXA_ETARIA_PACIENTE\n",
       "            </td>\n",
       "        </tr>\n",
       "    \n",
       "        <tr style=\"background-color: hsl(120, 100.00%, 97.80%); border: none;\">\n",
       "            <td style=\"padding: 0 1em 0 0.5em; text-align: right; border: none;\">\n",
       "                0.0168\n",
       "                \n",
       "                    &plusmn; 0.0125\n",
       "                \n",
       "            </td>\n",
       "            <td style=\"padding: 0 0.5em 0 0.5em; text-align: left; border: none;\">\n",
       "                CO_TEM_NODULO\n",
       "            </td>\n",
       "        </tr>\n",
       "    \n",
       "        <tr style=\"background-color: hsl(120, 100.00%, 97.80%); border: none;\">\n",
       "            <td style=\"padding: 0 1em 0 0.5em; text-align: right; border: none;\">\n",
       "                0.0168\n",
       "                \n",
       "                    &plusmn; 0.0125\n",
       "                \n",
       "            </td>\n",
       "            <td style=\"padding: 0 0.5em 0 0.5em; text-align: left; border: none;\">\n",
       "                CO_MUN_RESIDENCIA\n",
       "            </td>\n",
       "        </tr>\n",
       "    \n",
       "        <tr style=\"background-color: hsl(120, 100.00%, 97.87%); border: none;\">\n",
       "            <td style=\"padding: 0 1em 0 0.5em; text-align: right; border: none;\">\n",
       "                0.0160\n",
       "                \n",
       "                    &plusmn; 0.0112\n",
       "                \n",
       "            </td>\n",
       "            <td style=\"padding: 0 0.5em 0 0.5em; text-align: left; border: none;\">\n",
       "                CO_UF_RESIDENCIA\n",
       "            </td>\n",
       "        </tr>\n",
       "    \n",
       "        <tr style=\"background-color: hsl(120, 100.00%, 97.88%); border: none;\">\n",
       "            <td style=\"padding: 0 1em 0 0.5em; text-align: right; border: none;\">\n",
       "                0.0160\n",
       "                \n",
       "                    &plusmn; 0.0073\n",
       "                \n",
       "            </td>\n",
       "            <td style=\"padding: 0 0.5em 0 0.5em; text-align: left; border: none;\">\n",
       "                CO_INTERVALO_EXAME\n",
       "            </td>\n",
       "        </tr>\n",
       "    \n",
       "        <tr style=\"background-color: hsl(120, 100.00%, 97.94%); border: none;\">\n",
       "            <td style=\"padding: 0 1em 0 0.5em; text-align: right; border: none;\">\n",
       "                0.0153\n",
       "                \n",
       "                    &plusmn; 0.0072\n",
       "                \n",
       "            </td>\n",
       "            <td style=\"padding: 0 0.5em 0 0.5em; text-align: left; border: none;\">\n",
       "                CO_RISCO_ELEVADO\n",
       "            </td>\n",
       "        </tr>\n",
       "    \n",
       "        <tr style=\"background-color: hsl(120, 100.00%, 98.19%); border: none;\">\n",
       "            <td style=\"padding: 0 1em 0 0.5em; text-align: right; border: none;\">\n",
       "                0.0127\n",
       "                \n",
       "                    &plusmn; 0.0059\n",
       "                \n",
       "            </td>\n",
       "            <td style=\"padding: 0 0.5em 0 0.5em; text-align: left; border: none;\">\n",
       "                CO_SEQ_SISCAN_CITO_MAMA_PACNT\n",
       "            </td>\n",
       "        </tr>\n",
       "    \n",
       "        <tr style=\"background-color: hsl(120, 100.00%, 98.21%); border: none;\">\n",
       "            <td style=\"padding: 0 1em 0 0.5em; text-align: right; border: none;\">\n",
       "                0.0125\n",
       "                \n",
       "                    &plusmn; 0.0060\n",
       "                \n",
       "            </td>\n",
       "            <td style=\"padding: 0 0.5em 0 0.5em; text-align: left; border: none;\">\n",
       "                NU_ANO_MES_COMPETENCIA\n",
       "            </td>\n",
       "        </tr>\n",
       "    \n",
       "        <tr style=\"background-color: hsl(120, 100.00%, 98.30%); border: none;\">\n",
       "            <td style=\"padding: 0 1em 0 0.5em; text-align: right; border: none;\">\n",
       "                0.0116\n",
       "                \n",
       "                    &plusmn; 0.0057\n",
       "                \n",
       "            </td>\n",
       "            <td style=\"padding: 0 0.5em 0 0.5em; text-align: left; border: none;\">\n",
       "                CO_ANO_RESULTADO\n",
       "            </td>\n",
       "        </tr>\n",
       "    \n",
       "        <tr style=\"background-color: hsl(120, 100.00%, 98.32%); border: none;\">\n",
       "            <td style=\"padding: 0 1em 0 0.5em; text-align: right; border: none;\">\n",
       "                0.0114\n",
       "                \n",
       "                    &plusmn; 0.0054\n",
       "                \n",
       "            </td>\n",
       "            <td style=\"padding: 0 0.5em 0 0.5em; text-align: left; border: none;\">\n",
       "                NU_ANO_COMPETENCIA\n",
       "            </td>\n",
       "        </tr>\n",
       "    \n",
       "        <tr style=\"background-color: hsl(120, 100.00%, 98.33%); border: none;\">\n",
       "            <td style=\"padding: 0 1em 0 0.5em; text-align: right; border: none;\">\n",
       "                0.0113\n",
       "                \n",
       "                    &plusmn; 0.0043\n",
       "                \n",
       "            </td>\n",
       "            <td style=\"padding: 0 0.5em 0 0.5em; text-align: left; border: none;\">\n",
       "                TP_LATERALIDADE_MAMA\n",
       "            </td>\n",
       "        </tr>\n",
       "    \n",
       "        <tr style=\"background-color: hsl(120, 100.00%, 98.36%); border: none;\">\n",
       "            <td style=\"padding: 0 1em 0 0.5em; text-align: right; border: none;\">\n",
       "                0.0111\n",
       "                \n",
       "                    &plusmn; 0.0053\n",
       "                \n",
       "            </td>\n",
       "            <td style=\"padding: 0 0.5em 0 0.5em; text-align: left; border: none;\">\n",
       "                CO_RACA_COR\n",
       "            </td>\n",
       "        </tr>\n",
       "    \n",
       "        <tr style=\"background-color: hsl(120, 100.00%, 98.52%); border: none;\">\n",
       "            <td style=\"padding: 0 1em 0 0.5em; text-align: right; border: none;\">\n",
       "                0.0095\n",
       "                \n",
       "                    &plusmn; 0.0040\n",
       "                \n",
       "            </td>\n",
       "            <td style=\"padding: 0 0.5em 0 0.5em; text-align: left; border: none;\">\n",
       "                CO_PACIENTE\n",
       "            </td>\n",
       "        </tr>\n",
       "    \n",
       "        <tr style=\"background-color: hsl(120, 100.00%, 98.54%); border: none;\">\n",
       "            <td style=\"padding: 0 1em 0 0.5em; text-align: right; border: none;\">\n",
       "                0.0093\n",
       "                \n",
       "                    &plusmn; 0.0086\n",
       "                \n",
       "            </td>\n",
       "            <td style=\"padding: 0 0.5em 0 0.5em; text-align: left; border: none;\">\n",
       "                CO_INTERVALO_COLETA\n",
       "            </td>\n",
       "        </tr>\n",
       "    \n",
       "        <tr style=\"background-color: hsl(120, 100.00%, 99.53%); border: none;\">\n",
       "            <td style=\"padding: 0 1em 0 0.5em; text-align: right; border: none;\">\n",
       "                0.0018\n",
       "                \n",
       "                    &plusmn; 0.0015\n",
       "                \n",
       "            </td>\n",
       "            <td style=\"padding: 0 0.5em 0 0.5em; text-align: left; border: none;\">\n",
       "                CO_TEMPO_EXAME\n",
       "            </td>\n",
       "        </tr>\n",
       "    \n",
       "        <tr style=\"background-color: hsl(120, 100.00%, 99.65%); border: none;\">\n",
       "            <td style=\"padding: 0 1em 0 0.5em; text-align: right; border: none;\">\n",
       "                0.0012\n",
       "                \n",
       "                    &plusmn; 0.0010\n",
       "                \n",
       "            </td>\n",
       "            <td style=\"padding: 0 0.5em 0 0.5em; text-align: left; border: none;\">\n",
       "                SG_SEXO\n",
       "            </td>\n",
       "        </tr>\n",
       "    \n",
       "    \n",
       "    </tbody>\n",
       "</table>\n",
       "    \n",
       "\n",
       "    \n",
       "\n",
       "\n",
       "    \n",
       "\n",
       "    \n",
       "\n",
       "    \n",
       "\n",
       "    \n",
       "\n",
       "    \n",
       "\n",
       "    \n",
       "\n",
       "\n",
       "\n"
      ],
      "text/plain": [
       "Explanation(estimator='ExtraTreesClassifier(max_depth=30, n_estimators=600)', description='\\nRandom forest feature importances; values are numbers 0 <= x <= 1;\\nall values sum to 1.\\n', error=None, method='feature importances', is_regression=False, targets=None, feature_importances=FeatureImportances(importances=[FeatureWeight(feature='TP_RESULTA_PUNCAO_ASPIRATIVA', weight=0.3929182632355017, std=0.08688659684414811, value=None), FeatureWeight(feature='TP_ADEQUABILIDAD_MATERIAL', weight=0.1693442523383826, std=0.045050289607466536, value=None), FeatureWeight(feature='TP_PROC_BENI_NEGA_MALI_COMPATI', weight=0.15244174275560649, std=0.04894979817884195, value=None), FeatureWeight(feature='TP_MATERIAL', weight=0.060344994998737474, std=0.04258969404496028, value=None), FeatureWeight(feature='TP_NODULO', weight=0.03379129616331099, std=0.02138326621604683, value=None), FeatureWeight(feature='CO_FAIXA_ETARIA_PACIENTE', weight=0.017850596473428397, std=0.00515261361064623, value=None), FeatureWeight(feature='CO_TEM_NODULO', weight=0.01681174276902496, std=0.006230386006758489, value=None), FeatureWeight(feature='CO_MUN_RESIDENCIA', weight=0.016787898645823918, std=0.0062290704297276, value=None), FeatureWeight(feature='CO_UF_RESIDENCIA', weight=0.015998747987001183, std=0.005580483074510799, value=None), FeatureWeight(feature='CO_INTERVALO_EXAME', weight=0.015954457147746605, std=0.003639984531528425, value=None), FeatureWeight(feature='CO_RISCO_ELEVADO', weight=0.015313188077161092, std=0.003599243457410677, value=None), FeatureWeight(feature='CO_SEQ_SISCAN_CITO_MAMA_PACNT', weight=0.01273542612402262, std=0.002960134246846016, value=None), FeatureWeight(feature='NU_ANO_MES_COMPETENCIA', weight=0.012472642876110475, std=0.002975903302850927, value=None), FeatureWeight(feature='CO_ANO_RESULTADO', weight=0.011563347113234672, std=0.0028285882415573075, value=None), FeatureWeight(feature='NU_ANO_COMPETENCIA', weight=0.011386562003696107, std=0.0027146495761448167, value=None), FeatureWeight(feature='TP_LATERALIDADE_MAMA', weight=0.011277900776434906, std=0.002155525361505313, value=None), FeatureWeight(feature='CO_RACA_COR', weight=0.011077238128005483, std=0.0026521769049169686, value=None), FeatureWeight(feature='CO_PACIENTE', weight=0.00951785939405224, std=0.0019756033214970996, value=None), FeatureWeight(feature='CO_INTERVALO_COLETA', weight=0.009324912006125459, std=0.004304295240228879, value=None), FeatureWeight(feature='CO_TEMPO_EXAME', weight=0.0018480838118452067, std=0.0007491108850003421, value=None), FeatureWeight(feature='SG_SEXO', weight=0.0012388471747474164, std=0.0005176758257287332, value=None)], remaining=0), decision_tree=None, highlight_spaces=None, transition_features=None, image=None)"
      ]
     },
     "execution_count": 156,
     "metadata": {},
     "output_type": "execute_result"
    }
   ],
   "source": [
    "plot_features_importances(etrees_cv.best_estimator_, X)"
   ]
  },
  {
   "cell_type": "code",
   "execution_count": 183,
   "metadata": {},
   "outputs": [],
   "source": [
    "plot_features_importances(tree_cv.best_estimator_, X);"
   ]
  },
  {
   "cell_type": "markdown",
   "metadata": {},
   "source": [
    "### 6.6 - Predição"
   ]
  },
  {
   "cell_type": "markdown",
   "metadata": {},
   "source": [
    "#### AdaBoost"
   ]
  },
  {
   "cell_type": "code",
   "execution_count": 129,
   "metadata": {},
   "outputs": [],
   "source": [
    "y_pred_baseline_ada = ada_pipeline.predict(X_test) # predição do modelo Adaboost"
   ]
  },
  {
   "cell_type": "code",
   "execution_count": 130,
   "metadata": {},
   "outputs": [
    {
     "name": "stdout",
     "output_type": "stream",
     "text": [
      "              precision    recall  f1-score   support\n",
      "\n",
      "           1       0.00      0.00      0.00       699\n",
      "           2       0.53      1.00      0.70       766\n",
      "           3       0.04      1.00      0.08       241\n",
      "           4       1.00      0.98      0.99     13851\n",
      "           5       0.00      0.00      0.00      5123\n",
      "           6       1.00      1.00      1.00      3016\n",
      "\n",
      "    accuracy                           0.74     23696\n",
      "   macro avg       0.43      0.66      0.46     23696\n",
      "weighted avg       0.73      0.74      0.73     23696\n",
      "\n"
     ]
    },
    {
     "name": "stderr",
     "output_type": "stream",
     "text": [
      "/home/igobarros/anaconda3/lib/python3.8/site-packages/sklearn/metrics/_classification.py:1221: UndefinedMetricWarning: Precision and F-score are ill-defined and being set to 0.0 in labels with no predicted samples. Use `zero_division` parameter to control this behavior.\n",
      "  _warn_prf(average, modifier, msg_start, len(result))\n"
     ]
    }
   ],
   "source": [
    "print(classification_report(y_test, y_pred_baseline_ada)) # Informa um pequeno relatório do resultado de algumas métricas dos modelo de baseline"
   ]
  },
  {
   "cell_type": "code",
   "execution_count": 134,
   "metadata": {},
   "outputs": [
    {
     "data": {
      "text/plain": [
       "0.7433322079675895"
      ]
     },
     "execution_count": 134,
     "metadata": {},
     "output_type": "execute_result"
    }
   ],
   "source": [
    "accuracy_score(y_test, y_pred_baseline_ada) # Métria roc_auc do modelo baseline"
   ]
  },
  {
   "cell_type": "markdown",
   "metadata": {},
   "source": [
    "Turning model"
   ]
  },
  {
   "cell_type": "code",
   "execution_count": 137,
   "metadata": {},
   "outputs": [],
   "source": [
    "y_pred_cv_ada = ada_cv.predict(X_test) # Informa um pequeno relatório do resultado de algumas métricas dos modelo"
   ]
  },
  {
   "cell_type": "code",
   "execution_count": 138,
   "metadata": {},
   "outputs": [
    {
     "name": "stdout",
     "output_type": "stream",
     "text": [
      "              precision    recall  f1-score   support\n",
      "\n",
      "           1       0.98      0.53      0.69       699\n",
      "           2       0.72      1.00      0.84       766\n",
      "           3       0.79      0.68      0.73       241\n",
      "           4       1.00      0.98      0.99     13851\n",
      "           5       0.93      0.99      0.96      5123\n",
      "           6       1.00      1.00      1.00      3016\n",
      "\n",
      "    accuracy                           0.97     23696\n",
      "   macro avg       0.90      0.86      0.87     23696\n",
      "weighted avg       0.97      0.97      0.97     23696\n",
      "\n"
     ]
    }
   ],
   "source": [
    "print(classification_report(y_test, y_pred_cv_ada)) # Informa um pequeno relatório do resultado de algumas métricas dos modelo com turning"
   ]
  },
  {
   "cell_type": "code",
   "execution_count": 140,
   "metadata": {},
   "outputs": [
    {
     "data": {
      "text/plain": [
       "0.9699949358541526"
      ]
     },
     "execution_count": 140,
     "metadata": {},
     "output_type": "execute_result"
    }
   ],
   "source": [
    "accuracy_score(y_test, y_pred_cv_ada) # Métria roc_auc do modelo com turning"
   ]
  },
  {
   "cell_type": "markdown",
   "metadata": {},
   "source": [
    "#### DecisionTreeClassifier"
   ]
  },
  {
   "cell_type": "code",
   "execution_count": 141,
   "metadata": {},
   "outputs": [],
   "source": [
    "y_pred_baseline_tree = tree_pipeline.predict(X_test) # predição do modelo Adaboost"
   ]
  },
  {
   "cell_type": "code",
   "execution_count": 142,
   "metadata": {},
   "outputs": [
    {
     "name": "stdout",
     "output_type": "stream",
     "text": [
      "              precision    recall  f1-score   support\n",
      "\n",
      "           1       0.94      0.96      0.95       699\n",
      "           2       1.00      1.00      1.00       766\n",
      "           3       0.53      0.70      0.60       241\n",
      "           4       0.98      0.98      0.98     13851\n",
      "           5       0.94      0.92      0.93      5123\n",
      "           6       1.00      1.00      1.00      3016\n",
      "\n",
      "    accuracy                           0.97     23696\n",
      "   macro avg       0.90      0.93      0.91     23696\n",
      "weighted avg       0.97      0.97      0.97     23696\n",
      "\n"
     ]
    }
   ],
   "source": [
    "print(classification_report(y_test, y_pred_baseline_tree)) # Informa um pequeno relatório do resultado de algumas métricas dos modelo de baseline"
   ]
  },
  {
   "cell_type": "code",
   "execution_count": 143,
   "metadata": {},
   "outputs": [
    {
     "data": {
      "text/plain": [
       "0.9681380823767725"
      ]
     },
     "execution_count": 143,
     "metadata": {},
     "output_type": "execute_result"
    }
   ],
   "source": [
    "accuracy_score(y_test, y_pred_baseline_tree) # Métria roc_auc do modelo baseline"
   ]
  },
  {
   "cell_type": "markdown",
   "metadata": {},
   "source": [
    "Turning model"
   ]
  },
  {
   "cell_type": "code",
   "execution_count": 145,
   "metadata": {},
   "outputs": [],
   "source": [
    "y_pred_cv_tree = tree_cv.predict(X_test) # Informa um pequeno relatório do resultado de algumas métricas dos modelo"
   ]
  },
  {
   "cell_type": "code",
   "execution_count": 146,
   "metadata": {},
   "outputs": [
    {
     "name": "stdout",
     "output_type": "stream",
     "text": [
      "              precision    recall  f1-score   support\n",
      "\n",
      "           1       0.90      0.92      0.91       699\n",
      "           2       0.95      0.95      0.95       766\n",
      "           3       0.43      0.59      0.50       241\n",
      "           4       0.99      0.98      0.99     13851\n",
      "           5       0.93      0.93      0.93      5123\n",
      "           6       1.00      0.99      0.99      3016\n",
      "\n",
      "    accuracy                           0.97     23696\n",
      "   macro avg       0.87      0.89      0.88     23696\n",
      "weighted avg       0.97      0.97      0.97     23696\n",
      "\n"
     ]
    }
   ],
   "source": [
    "print(classification_report(y_test, y_pred_cv_tree)) # Informa um pequeno relatório do resultado de algumas métricas dos modelo com turning"
   ]
  },
  {
   "cell_type": "code",
   "execution_count": 147,
   "metadata": {},
   "outputs": [
    {
     "data": {
      "text/plain": [
       "0.9658170155300473"
      ]
     },
     "execution_count": 147,
     "metadata": {},
     "output_type": "execute_result"
    }
   ],
   "source": [
    "accuracy_score(y_test, y_pred_cv_tree) # Métria roc_auc do modelo com turning"
   ]
  },
  {
   "cell_type": "markdown",
   "metadata": {},
   "source": [
    "#### RandomForestClassifier"
   ]
  },
  {
   "cell_type": "code",
   "execution_count": 148,
   "metadata": {},
   "outputs": [],
   "source": [
    "y_pred_baseline_rf = rf_pipeline.predict(X_test) # predição do modelo Adaboost"
   ]
  },
  {
   "cell_type": "code",
   "execution_count": 149,
   "metadata": {},
   "outputs": [
    {
     "name": "stdout",
     "output_type": "stream",
     "text": [
      "              precision    recall  f1-score   support\n",
      "\n",
      "           1       1.00      0.96      0.98       699\n",
      "           2       1.00      1.00      1.00       766\n",
      "           3       0.98      0.68      0.80       241\n",
      "           4       1.00      0.98      0.99     13851\n",
      "           5       0.93      1.00      0.97      5123\n",
      "           6       1.00      1.00      1.00      3016\n",
      "\n",
      "    accuracy                           0.98     23696\n",
      "   macro avg       0.99      0.94      0.96     23696\n",
      "weighted avg       0.99      0.98      0.98     23696\n",
      "\n"
     ]
    }
   ],
   "source": [
    "print(classification_report(y_test, y_pred_baseline_rf)) # Informa um pequeno relatório do resultado de algumas métricas dos modelo de baseline"
   ]
  },
  {
   "cell_type": "code",
   "execution_count": 150,
   "metadata": {},
   "outputs": [
    {
     "data": {
      "text/plain": [
       "0.9845121539500338"
      ]
     },
     "execution_count": 150,
     "metadata": {},
     "output_type": "execute_result"
    }
   ],
   "source": [
    "accuracy_score(y_test, y_pred_baseline_rf) # Métria roc_auc do modelo baseline"
   ]
  },
  {
   "cell_type": "markdown",
   "metadata": {},
   "source": [
    "Turning model"
   ]
  },
  {
   "cell_type": "code",
   "execution_count": 151,
   "metadata": {},
   "outputs": [],
   "source": [
    "y_pred_cv_rf = rf_cv.predict(X_test) # Informa um pequeno relatório do resultado de algumas métricas dos modelo"
   ]
  },
  {
   "cell_type": "code",
   "execution_count": 152,
   "metadata": {},
   "outputs": [
    {
     "name": "stdout",
     "output_type": "stream",
     "text": [
      "              precision    recall  f1-score   support\n",
      "\n",
      "           1       1.00      0.96      0.98       699\n",
      "           2       1.00      1.00      1.00       766\n",
      "           3       0.98      0.68      0.80       241\n",
      "           4       1.00      0.98      0.99     13851\n",
      "           5       0.93      1.00      0.97      5123\n",
      "           6       1.00      1.00      1.00      3016\n",
      "\n",
      "    accuracy                           0.98     23696\n",
      "   macro avg       0.99      0.94      0.96     23696\n",
      "weighted avg       0.99      0.98      0.98     23696\n",
      "\n"
     ]
    }
   ],
   "source": [
    "print(classification_report(y_test, y_pred_cv_rf)) # Informa um pequeno relatório do resultado de algumas métricas dos modelo com turning"
   ]
  },
  {
   "cell_type": "code",
   "execution_count": 153,
   "metadata": {},
   "outputs": [
    {
     "data": {
      "text/plain": [
       "0.9845121539500338"
      ]
     },
     "execution_count": 153,
     "metadata": {},
     "output_type": "execute_result"
    }
   ],
   "source": [
    "accuracy_score(y_test, y_pred_cv_rf) # Métria roc_auc do modelo com turning"
   ]
  },
  {
   "cell_type": "markdown",
   "metadata": {},
   "source": [
    "#### ExtraTreesClassifier"
   ]
  },
  {
   "cell_type": "code",
   "execution_count": 159,
   "metadata": {},
   "outputs": [],
   "source": [
    "y_pred_baseline_etrees = etrees_pipeline.predict(X_test) # predição do modelo Adaboost"
   ]
  },
  {
   "cell_type": "code",
   "execution_count": 160,
   "metadata": {},
   "outputs": [
    {
     "name": "stdout",
     "output_type": "stream",
     "text": [
      "              precision    recall  f1-score   support\n",
      "\n",
      "           1       1.00      0.96      0.98       699\n",
      "           2       1.00      1.00      1.00       766\n",
      "           3       0.94      0.68      0.79       241\n",
      "           4       1.00      0.98      0.99     13851\n",
      "           5       0.93      1.00      0.96      5123\n",
      "           6       1.00      1.00      1.00      3016\n",
      "\n",
      "    accuracy                           0.98     23696\n",
      "   macro avg       0.98      0.94      0.95     23696\n",
      "weighted avg       0.98      0.98      0.98     23696\n",
      "\n"
     ]
    }
   ],
   "source": [
    "print(classification_report(y_test, y_pred_baseline_etrees)) # Informa um pequeno relatório do resultado de algumas métricas dos modelo de baseline"
   ]
  },
  {
   "cell_type": "code",
   "execution_count": 161,
   "metadata": {},
   "outputs": [
    {
     "data": {
      "text/plain": [
       "0.9837947332883187"
      ]
     },
     "execution_count": 161,
     "metadata": {},
     "output_type": "execute_result"
    }
   ],
   "source": [
    "accuracy_score(y_test, y_pred_baseline_etrees) # Métria roc_auc do modelo baseline"
   ]
  },
  {
   "cell_type": "markdown",
   "metadata": {},
   "source": [
    "Turning model"
   ]
  },
  {
   "cell_type": "code",
   "execution_count": 162,
   "metadata": {},
   "outputs": [],
   "source": [
    "y_pred_cv_etrees = etrees_cv.predict(X_test) # Informa um pequeno relatório do resultado de algumas métricas dos modelo"
   ]
  },
  {
   "cell_type": "code",
   "execution_count": 163,
   "metadata": {},
   "outputs": [
    {
     "name": "stdout",
     "output_type": "stream",
     "text": [
      "              precision    recall  f1-score   support\n",
      "\n",
      "           1       1.00      0.96      0.98       699\n",
      "           2       1.00      1.00      1.00       766\n",
      "           3       0.91      0.68      0.78       241\n",
      "           4       1.00      0.98      0.99     13851\n",
      "           5       0.93      1.00      0.96      5123\n",
      "           6       1.00      1.00      1.00      3016\n",
      "\n",
      "    accuracy                           0.98     23696\n",
      "   macro avg       0.97      0.94      0.95     23696\n",
      "weighted avg       0.98      0.98      0.98     23696\n",
      "\n"
     ]
    }
   ],
   "source": [
    "print(classification_report(y_test, y_pred_cv_etrees)) # Informa um pequeno relatório do resultado de algumas métricas dos modelo com turning"
   ]
  },
  {
   "cell_type": "code",
   "execution_count": 164,
   "metadata": {},
   "outputs": [
    {
     "data": {
      "text/plain": [
       "0.9838369345037137"
      ]
     },
     "execution_count": 164,
     "metadata": {},
     "output_type": "execute_result"
    }
   ],
   "source": [
    "accuracy_score(y_test, y_pred_cv_etrees) # Métria roc_auc do modelo com turning"
   ]
  },
  {
   "cell_type": "markdown",
   "metadata": {},
   "source": [
    "## Modelagem final"
   ]
  },
  {
   "cell_type": "code",
   "execution_count": 3,
   "metadata": {},
   "outputs": [],
   "source": [
    "features_to_drop = ['CO_MUN_RESIDENCIA', 'NU_ANO_COMPETENCIA', 'NU_ANO_MES_COMPETENCIA', 'CO_RACA_COR', 'CO_TEMPO_EXAME', \n",
    "'TP_EXAME_HISTOPATOLOGICO', 'TP_MATER_ENVIA_PROCEDENTE', 'TP_PROCEDIMENTO_CIRURGICO', 'TP_ADEQUABILIDAD_MATERIAL',\n",
    "'CO_PACIENTE', 'CO_ANO_RESULTADO', 'SG_UF_RESIDENCIA', 'CO_ESCOLARIDADE', \n",
    "'TP_LESAO_CARAT_NEOPL_MALI', 'TP_GRAU_HISTOLOGICO', 'TP_MARGEM_CIRURGICA', \n",
    "'TP_DIAGNOSTICO_IMAGEM', 'TP_LESAO', 'ST_MICROCALCIFICACAO']"
   ]
  },
  {
   "cell_type": "code",
   "execution_count": null,
   "metadata": {},
   "outputs": [],
   "source": [
    "repeat = []\n",
    "\n",
    "for f in features_to_drop:\n",
    "    if f in df.columns:\n",
    "        repeat.append(f)"
   ]
  },
  {
   "cell_type": "code",
   "execution_count": 5,
   "metadata": {},
   "outputs": [
    {
     "data": {
      "text/plain": [
       "[]"
      ]
     },
     "execution_count": 5,
     "metadata": {},
     "output_type": "execute_result"
    }
   ],
   "source": [
    "repeat"
   ]
  },
  {
   "cell_type": "code",
   "execution_count": 248,
   "metadata": {},
   "outputs": [],
   "source": [
    "repeat.remove('SG_UF_RESIDENCIA')\n",
    "repeat.remove('CO_ESCOLARIDADE')\n",
    "repeat.remove('CO_RACA_COR')\n",
    "repeat.remove('CO_MUN_RESIDENCIA')\n",
    "repeat.remove('CO_TEMPO_EXAME')"
   ]
  },
  {
   "cell_type": "code",
   "execution_count": 249,
   "metadata": {},
   "outputs": [],
   "source": [
    "# repeat.append('TP_MATERIAL')\n",
    "# repeat.append('TP_RESULTA_PUNCAO_ASPIRATIVA')\n",
    "# repeat.append('TP_PROC_BENI_NEGA_MALI_COMPATI')"
   ]
  },
  {
   "cell_type": "code",
   "execution_count": null,
   "metadata": {},
   "outputs": [],
   "source": [
    "params = {\n",
    "  'n_estimators': 800,\n",
    "  'min_samples_split': 5,\n",
    "  'min_samples_leaf': 1,\n",
    "  'max_features': 'log2',\n",
    "  'max_depth': 40,\n",
    "  'bootstrap': False\n",
    "}\n",
    "\n",
    "rf = RandomForestClassifier(**params)\n",
    "rf.fit(X_train.drop(repeat, axis=1).reset_index(drop=True), y_train)"
   ]
  },
  {
   "cell_type": "code",
   "execution_count": 224,
   "metadata": {},
   "outputs": [],
   "source": [
    "y_pred_rf = rf.predict(X_test.drop(repeat, axis=1).reset_index(drop=True))"
   ]
  },
  {
   "cell_type": "code",
   "execution_count": 225,
   "metadata": {},
   "outputs": [
    {
     "data": {
      "text/plain": [
       "0.637027346387576"
      ]
     },
     "execution_count": 225,
     "metadata": {},
     "output_type": "execute_result"
    }
   ],
   "source": [
    "accuracy_score(y_test, y_pred_rf)"
   ]
  }
 ],
 "metadata": {
  "kernelspec": {
   "display_name": "Python 3",
   "language": "python",
   "name": "python3"
  },
  "language_info": {
   "codemirror_mode": {
    "name": "ipython",
    "version": 3
   },
   "file_extension": ".py",
   "mimetype": "text/x-python",
   "name": "python",
   "nbconvert_exporter": "python",
   "pygments_lexer": "ipython3",
   "version": "3.8.3"
  }
 },
 "nbformat": 4,
 "nbformat_minor": 4
}
